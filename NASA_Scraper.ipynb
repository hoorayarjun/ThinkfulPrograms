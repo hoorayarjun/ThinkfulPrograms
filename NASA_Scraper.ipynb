{
 "cells": [
  {
   "cell_type": "code",
   "execution_count": 14,
   "metadata": {},
   "outputs": [
    {
     "name": "stdout",
     "output_type": "stream",
     "text": [
      "What is the first sol you would like to look at: 1000\n",
      "What is the last sol you would like to look at: 1001\n",
      "1000\n"
     ]
    }
   ],
   "source": [
    "import requests\n",
    "from bs4 import BeautifulSoup\n",
    "import json\n",
    "import pandas as pd\n",
    "low_sol = int(input(\"What is the first sol you would like to look at: \"))\n",
    "high_sol = int(input(\"What is the last sol you would like to look at: \"))\n",
    "image_links = []\n",
    "for sol in range (low_sol, high_sol):\n",
    "    print(sol)\n",
    "    page = requests.get(\"https://api.nasa.gov/mars-photos/api/v1/rovers/curiosity/photos?format=xml&sol=\" + str(sol) + \"&api_key=RENsGI2SurBhDnKDBNqNCopoMdUtyeSrvlunsnhX\")\n",
    "    soup = BeautifulSoup(page.content, 'html.parser')\n",
    "    site_json=json.loads(soup.text)\n",
    "    for item in site_json['photos']:\n",
    "        image_links.append(item.get('img_src'))"
   ]
  },
  {
   "cell_type": "code",
   "execution_count": 15,
   "metadata": {},
   "outputs": [],
   "source": [
    "df = pd.DataFrame(columns = [\"img_src\"])\n",
    "df[\"img_src\"] = image_links\n",
    "df.to_csv(\"mars_rover_photos_sol\" + str(low_sol) + \"-\" + str(high_sol-1))"
   ]
  },
  {
   "cell_type": "code",
   "execution_count": null,
   "metadata": {},
   "outputs": [],
   "source": []
  }
 ],
 "metadata": {
  "kernelspec": {
   "display_name": "Python 3",
   "language": "python",
   "name": "python3"
  },
  "language_info": {
   "codemirror_mode": {
    "name": "ipython",
    "version": 3
   },
   "file_extension": ".py",
   "mimetype": "text/x-python",
   "name": "python",
   "nbconvert_exporter": "python",
   "pygments_lexer": "ipython3",
   "version": "3.7.1"
  }
 },
 "nbformat": 4,
 "nbformat_minor": 2
}
