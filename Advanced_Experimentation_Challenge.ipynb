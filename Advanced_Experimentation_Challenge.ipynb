{
 "cells": [
  {
   "cell_type": "code",
   "execution_count": 42,
   "metadata": {},
   "outputs": [
    {
     "data": {
      "text/html": [
       "<div>\n",
       "<style scoped>\n",
       "    .dataframe tbody tr th:only-of-type {\n",
       "        vertical-align: middle;\n",
       "    }\n",
       "\n",
       "    .dataframe tbody tr th {\n",
       "        vertical-align: top;\n",
       "    }\n",
       "\n",
       "    .dataframe thead th {\n",
       "        text-align: right;\n",
       "    }\n",
       "</style>\n",
       "<table border=\"1\" class=\"dataframe\">\n",
       "  <thead>\n",
       "    <tr style=\"text-align: right;\">\n",
       "      <th></th>\n",
       "      <th>cntry</th>\n",
       "      <th>idno</th>\n",
       "      <th>year</th>\n",
       "      <th>tvtot</th>\n",
       "      <th>ppltrst</th>\n",
       "      <th>pplfair</th>\n",
       "      <th>pplhlp</th>\n",
       "      <th>happy</th>\n",
       "      <th>sclmeet</th>\n",
       "      <th>sclact</th>\n",
       "      <th>gndr</th>\n",
       "      <th>agea</th>\n",
       "      <th>partner</th>\n",
       "    </tr>\n",
       "  </thead>\n",
       "  <tbody>\n",
       "    <tr>\n",
       "      <th>0</th>\n",
       "      <td>CH</td>\n",
       "      <td>5.0</td>\n",
       "      <td>6</td>\n",
       "      <td>3.0</td>\n",
       "      <td>3.0</td>\n",
       "      <td>10.0</td>\n",
       "      <td>5.0</td>\n",
       "      <td>8.0</td>\n",
       "      <td>5.0</td>\n",
       "      <td>4.0</td>\n",
       "      <td>2.0</td>\n",
       "      <td>60.0</td>\n",
       "      <td>1.0</td>\n",
       "    </tr>\n",
       "    <tr>\n",
       "      <th>1</th>\n",
       "      <td>CH</td>\n",
       "      <td>25.0</td>\n",
       "      <td>6</td>\n",
       "      <td>6.0</td>\n",
       "      <td>5.0</td>\n",
       "      <td>7.0</td>\n",
       "      <td>5.0</td>\n",
       "      <td>9.0</td>\n",
       "      <td>3.0</td>\n",
       "      <td>2.0</td>\n",
       "      <td>2.0</td>\n",
       "      <td>59.0</td>\n",
       "      <td>1.0</td>\n",
       "    </tr>\n",
       "    <tr>\n",
       "      <th>2</th>\n",
       "      <td>CH</td>\n",
       "      <td>26.0</td>\n",
       "      <td>6</td>\n",
       "      <td>1.0</td>\n",
       "      <td>8.0</td>\n",
       "      <td>8.0</td>\n",
       "      <td>8.0</td>\n",
       "      <td>7.0</td>\n",
       "      <td>6.0</td>\n",
       "      <td>3.0</td>\n",
       "      <td>1.0</td>\n",
       "      <td>24.0</td>\n",
       "      <td>2.0</td>\n",
       "    </tr>\n",
       "    <tr>\n",
       "      <th>3</th>\n",
       "      <td>CH</td>\n",
       "      <td>28.0</td>\n",
       "      <td>6</td>\n",
       "      <td>4.0</td>\n",
       "      <td>6.0</td>\n",
       "      <td>6.0</td>\n",
       "      <td>7.0</td>\n",
       "      <td>10.0</td>\n",
       "      <td>6.0</td>\n",
       "      <td>2.0</td>\n",
       "      <td>2.0</td>\n",
       "      <td>64.0</td>\n",
       "      <td>1.0</td>\n",
       "    </tr>\n",
       "    <tr>\n",
       "      <th>4</th>\n",
       "      <td>CH</td>\n",
       "      <td>29.0</td>\n",
       "      <td>6</td>\n",
       "      <td>5.0</td>\n",
       "      <td>6.0</td>\n",
       "      <td>7.0</td>\n",
       "      <td>5.0</td>\n",
       "      <td>8.0</td>\n",
       "      <td>7.0</td>\n",
       "      <td>2.0</td>\n",
       "      <td>2.0</td>\n",
       "      <td>55.0</td>\n",
       "      <td>1.0</td>\n",
       "    </tr>\n",
       "  </tbody>\n",
       "</table>\n",
       "</div>"
      ],
      "text/plain": [
       "  cntry  idno  year  tvtot  ppltrst  pplfair  pplhlp  happy  sclmeet  sclact  \\\n",
       "0    CH   5.0     6    3.0      3.0     10.0     5.0    8.0      5.0     4.0   \n",
       "1    CH  25.0     6    6.0      5.0      7.0     5.0    9.0      3.0     2.0   \n",
       "2    CH  26.0     6    1.0      8.0      8.0     8.0    7.0      6.0     3.0   \n",
       "3    CH  28.0     6    4.0      6.0      6.0     7.0   10.0      6.0     2.0   \n",
       "4    CH  29.0     6    5.0      6.0      7.0     5.0    8.0      7.0     2.0   \n",
       "\n",
       "   gndr  agea  partner  \n",
       "0   2.0  60.0      1.0  \n",
       "1   2.0  59.0      1.0  \n",
       "2   1.0  24.0      2.0  \n",
       "3   2.0  64.0      1.0  \n",
       "4   2.0  55.0      1.0  "
      ]
     },
     "execution_count": 42,
     "metadata": {},
     "output_type": "execute_result"
    }
   ],
   "source": [
    "import pandas as pd\n",
    "import matplotlib.pyplot as plt\n",
    "import scipy.stats as stats\n",
    "import numpy as np\n",
    "df = pd.read_csv(\"ESSdata_Thinkful.csv\")\n",
    "df.head()"
   ]
  },
  {
   "cell_type": "code",
   "execution_count": 13,
   "metadata": {},
   "outputs": [
    {
     "data": {
      "text/plain": [
       "array(['CH', 'CZ', 'DE', 'ES', 'NO', 'SE'], dtype=object)"
      ]
     },
     "execution_count": 13,
     "metadata": {},
     "output_type": "execute_result"
    }
   ],
   "source": [
    "df['cntry'].unique()"
   ]
  },
  {
   "cell_type": "code",
   "execution_count": 45,
   "metadata": {},
   "outputs": [
    {
     "name": "stdout",
     "output_type": "stream",
     "text": [
      "CH\n"
     ]
    },
    {
     "data": {
      "image/png": "[encoded data removed]",
      "text/plain": [
       "<Figure size 432x288 with 2 Axes>"
      ]
     },
     "metadata": {
      "needs_background": "light"
     },
     "output_type": "display_data"
    },
    {
     "name": "stdout",
     "output_type": "stream",
     "text": [
      "2012    5.677878\n",
      "2014    5.751617\n",
      "dtype: float64\n"
     ]
    },
    {
     "data": {
      "image/png": "[encoded data removed]",
      "text/plain": [
       "<Figure size 432x288 with 1 Axes>"
      ]
     },
     "metadata": {
      "needs_background": "light"
     },
     "output_type": "display_data"
    },
    {
     "name": "stdout",
     "output_type": "stream",
     "text": [
      "Ttest_relResult(statistic=-0.6586851756725737, pvalue=0.5102943511301135)\n",
      "CZ\n"
     ]
    },
    {
     "data": {
      "image/png": "[encoded data removed]",
      "text/plain": [
       "<Figure size 432x288 with 2 Axes>"
      ]
     },
     "metadata": {
      "needs_background": "light"
     },
     "output_type": "display_data"
    },
    {
     "name": "stdout",
     "output_type": "stream",
     "text": [
      "2012    4.361538\n",
      "2014    4.429231\n",
      "dtype: float64\n"
     ]
    },
    {
     "data": {
      "image/png": "[encoded data removed]",
      "text/plain": [
       "<Figure size 432x288 with 1 Axes>"
      ]
     },
     "metadata": {
      "needs_background": "light"
     },
     "output_type": "display_data"
    },
    {
     "name": "stdout",
     "output_type": "stream",
     "text": [
      "Ttest_relResult(statistic=-0.5001638336887216, pvalue=0.6171292682404208)\n",
      "DE\n"
     ]
    },
    {
     "data": {
      "image/png": "[encoded data removed]",
      "text/plain": [
       "<Figure size 432x288 with 2 Axes>"
      ]
     },
     "metadata": {
      "needs_background": "light"
     },
     "output_type": "display_data"
    },
    {
     "name": "stdout",
     "output_type": "stream",
     "text": [
      "2012    5.214286\n",
      "2014    5.357143\n",
      "dtype: float64\n"
     ]
    },
    {
     "data": {
      "image/png": "[encoded data removed]",
      "text/plain": [
       "<Figure size 432x288 with 1 Axes>"
      ]
     },
     "metadata": {
      "needs_background": "light"
     },
     "output_type": "display_data"
    },
    {
     "name": "stdout",
     "output_type": "stream",
     "text": [
      "Ttest_relResult(statistic=-0.18399501804849683, pvalue=0.8568563797095805)\n",
      "ES\n"
     ]
    },
    {
     "data": {
      "image/png": "[encoded data removed]",
      "text/plain": [
       "<Figure size 432x288 with 2 Axes>"
      ]
     },
     "metadata": {
      "needs_background": "light"
     },
     "output_type": "display_data"
    },
    {
     "name": "stdout",
     "output_type": "stream",
     "text": [
      "2012    5.112304\n",
      "2014    4.895128\n",
      "dtype: float64\n"
     ]
    },
    {
     "data": {
      "image/png": "[encoded data removed]",
      "text/plain": [
       "<Figure size 432x288 with 1 Axes>"
      ]
     },
     "metadata": {
      "needs_background": "light"
     },
     "output_type": "display_data"
    },
    {
     "name": "stdout",
     "output_type": "stream",
     "text": [
      "Ttest_relResult(statistic=2.4561906976601646, pvalue=0.014181580725321856)\n",
      "NO\n"
     ]
    },
    {
     "data": {
      "image/png": "[encoded data removed]",
      "text/plain": [
       "<Figure size 432x288 with 2 Axes>"
      ]
     },
     "metadata": {
      "needs_background": "light"
     },
     "output_type": "display_data"
    },
    {
     "name": "stdout",
     "output_type": "stream",
     "text": [
      "2012    6.647462\n",
      "2014    6.599451\n",
      "dtype: float64\n"
     ]
    },
    {
     "data": {
      "image/png": "[encoded data removed]",
      "text/plain": [
       "<Figure size 432x288 with 1 Axes>"
      ]
     },
     "metadata": {
      "needs_background": "light"
     },
     "output_type": "display_data"
    },
    {
     "name": "stdout",
     "output_type": "stream",
     "text": [
      "Ttest_relResult(statistic=0.5073077081124404, pvalue=0.6120925701518767)\n",
      "SE\n"
     ]
    },
    {
     "data": {
      "image/png": "[encoded data removed]",
      "text/plain": [
       "<Figure size 432x288 with 2 Axes>"
      ]
     },
     "metadata": {
      "needs_background": "light"
     },
     "output_type": "display_data"
    },
    {
     "name": "stdout",
     "output_type": "stream",
     "text": [
      "2012    6.058499\n",
      "2014    6.257174\n",
      "dtype: float64\n"
     ]
    },
    {
     "data": {
      "image/png": "[encoded data removed]",
      "text/plain": [
       "<Figure size 432x288 with 1 Axes>"
      ]
     },
     "metadata": {
      "needs_background": "light"
     },
     "output_type": "display_data"
    },
    {
     "name": "stdout",
     "output_type": "stream",
     "text": [
      "Ttest_relResult(statistic=-2.0671082026033982, pvalue=0.0390078167095776)\n"
     ]
    }
   ],
   "source": [
    "for cntry in df['cntry'].unique():\n",
    "    trust = pd.DataFrame()\n",
    "    print(cntry)\n",
    "    trust['2012'] = (df.loc[df['cntry'] == cntry].loc[df['year'] == 6].reset_index()['ppltrst'])\n",
    "    trust['2014'] = (df.loc[df['cntry'] == cntry].loc[df['year'] == 7].reset_index()['ppltrst'])\n",
    "    trust = trust.dropna()\n",
    "    trust.hist(sharey = True, sharex = True)\n",
    "    plt.show()\n",
    "    print(trust.mean())\n",
    "    trust.boxplot()\n",
    "    plt.show()\n",
    "    print(stats.ttest_rel(trust['2012'], trust['2014']))"
   ]
  },
  {
   "cell_type": "markdown",
   "metadata": {},
   "source": [
    "Sweden is significantly more trusting, and Spain is signficantly less trusting. All others experience no statistically significant change."
   ]
  },
  {
   "cell_type": "code",
   "execution_count": 46,
   "metadata": {},
   "outputs": [
    {
     "name": "stdout",
     "output_type": "stream",
     "text": [
      "CH\n"
     ]
    },
    {
     "data": {
      "image/png": "[encoded data removed]",
      "text/plain": [
       "<Figure size 432x288 with 2 Axes>"
      ]
     },
     "metadata": {
      "needs_background": "light"
     },
     "output_type": "display_data"
    },
    {
     "name": "stdout",
     "output_type": "stream",
     "text": [
      "2012    6.058499\n",
      "2014    6.257174\n",
      "dtype: float64\n"
     ]
    },
    {
     "data": {
      "image/png": "[encoded data removed]",
      "text/plain": [
       "<Figure size 432x288 with 1 Axes>"
      ]
     },
     "metadata": {
      "needs_background": "light"
     },
     "output_type": "display_data"
    },
    {
     "name": "stdout",
     "output_type": "stream",
     "text": [
      "Ttest_relResult(statistic=-0.319412957862232, pvalue=0.7495001355428359)\n",
      "CZ\n"
     ]
    },
    {
     "data": {
      "image/png": "[encoded data removed]",
      "text/plain": [
       "<Figure size 432x288 with 2 Axes>"
      ]
     },
     "metadata": {
      "needs_background": "light"
     },
     "output_type": "display_data"
    },
    {
     "name": "stdout",
     "output_type": "stream",
     "text": [
      "2012    6.058499\n",
      "2014    6.257174\n",
      "dtype: float64\n"
     ]
    },
    {
     "data": {
      "image/png": "[encoded data removed]",
      "text/plain": [
       "<Figure size 432x288 with 1 Axes>"
      ]
     },
     "metadata": {
      "needs_background": "light"
     },
     "output_type": "display_data"
    },
    {
     "name": "stdout",
     "output_type": "stream",
     "text": [
      "Ttest_relResult(statistic=-1.4561384833039597, pvalue=0.14584548433894534)\n",
      "DE\n"
     ]
    },
    {
     "data": {
      "image/png": "[encoded data removed]",
      "text/plain": [
       "<Figure size 432x288 with 2 Axes>"
      ]
     },
     "metadata": {
      "needs_background": "light"
     },
     "output_type": "display_data"
    },
    {
     "name": "stdout",
     "output_type": "stream",
     "text": [
      "2012    6.058499\n",
      "2014    6.257174\n",
      "dtype: float64\n"
     ]
    },
    {
     "data": {
      "image/png": "[encoded data removed]",
      "text/plain": [
       "<Figure size 432x288 with 1 Axes>"
      ]
     },
     "metadata": {
      "needs_background": "light"
     },
     "output_type": "display_data"
    },
    {
     "name": "stdout",
     "output_type": "stream",
     "text": [
      "Ttest_relResult(statistic=-0.8062257748298549, pvalue=0.4346138707734991)\n",
      "ES\n"
     ]
    },
    {
     "data": {
      "image/png": "[encoded data removed]",
      "text/plain": [
       "<Figure size 432x288 with 2 Axes>"
      ]
     },
     "metadata": {
      "needs_background": "light"
     },
     "output_type": "display_data"
    },
    {
     "name": "stdout",
     "output_type": "stream",
     "text": [
      "2012    6.058499\n",
      "2014    6.257174\n",
      "dtype: float64\n"
     ]
    },
    {
     "data": {
      "image/png": "[encoded data removed]",
      "text/plain": [
       "<Figure size 432x288 with 1 Axes>"
      ]
     },
     "metadata": {
      "needs_background": "light"
     },
     "output_type": "display_data"
    },
    {
     "name": "stdout",
     "output_type": "stream",
     "text": [
      "Ttest_relResult(statistic=1.613832417735418, pvalue=0.1068245155648069)\n",
      "NO\n"
     ]
    },
    {
     "data": {
      "image/png": "[encoded data removed]",
      "text/plain": [
       "<Figure size 432x288 with 2 Axes>"
      ]
     },
     "metadata": {
      "needs_background": "light"
     },
     "output_type": "display_data"
    },
    {
     "name": "stdout",
     "output_type": "stream",
     "text": [
      "2012    6.058499\n",
      "2014    6.257174\n",
      "dtype: float64\n"
     ]
    },
    {
     "data": {
      "image/png": "[encoded data removed]",
      "text/plain": [
       "<Figure size 432x288 with 1 Axes>"
      ]
     },
     "metadata": {
      "needs_background": "light"
     },
     "output_type": "display_data"
    },
    {
     "name": "stdout",
     "output_type": "stream",
     "text": [
      "Ttest_relResult(statistic=4.2856826576235925, pvalue=2.0674530134057013e-05)\n",
      "SE\n"
     ]
    },
    {
     "data": {
      "image/png": "[encoded data removed]",
      "text/plain": [
       "<Figure size 432x288 with 2 Axes>"
      ]
     },
     "metadata": {
      "needs_background": "light"
     },
     "output_type": "display_data"
    },
    {
     "name": "stdout",
     "output_type": "stream",
     "text": [
      "2012    6.058499\n",
      "2014    6.257174\n",
      "dtype: float64\n"
     ]
    },
    {
     "data": {
      "image/png": "[encoded data removed]",
      "text/plain": [
       "<Figure size 432x288 with 1 Axes>"
      ]
     },
     "metadata": {
      "needs_background": "light"
     },
     "output_type": "display_data"
    },
    {
     "name": "stdout",
     "output_type": "stream",
     "text": [
      "Ttest_relResult(statistic=-0.5581637086030012, pvalue=0.5768709591234161)\n"
     ]
    }
   ],
   "source": [
    "for cntry in df['cntry'].unique():\n",
    "    happy = pd.DataFrame()\n",
    "    print(cntry)\n",
    "    happy['2012'] = (df.loc[df['cntry'] == cntry].loc[df['year'] == 6].reset_index()['happy'])\n",
    "    happy['2014'] = (df.loc[df['cntry'] == cntry].loc[df['year'] == 7].reset_index()['happy'])\n",
    "    happy = happy.dropna()\n",
    "    happy.hist(sharey = True, sharex = True)\n",
    "    plt.show()\n",
    "    print(trust.mean())\n",
    "    happy.boxplot()\n",
    "    plt.show()\n",
    "    print(stats.ttest_rel(happy['2012'], happy['2014']))"
   ]
  },
  {
   "cell_type": "markdown",
   "metadata": {},
   "source": [
    "Norwegians are significantly more happy in 2014. Everyone else does not change to a statistically significant degree."
   ]
  },
  {
   "cell_type": "code",
   "execution_count": 56,
   "metadata": {},
   "outputs": [
    {
     "data": {
      "image/png": "[encoded data removed]",
      "text/plain": [
       "<Figure size 432x288 with 2 Axes>"
      ]
     },
     "metadata": {
      "needs_background": "light"
     },
     "output_type": "display_data"
    },
    {
     "name": "stdout",
     "output_type": "stream",
     "text": [
      "males      3.901906\n",
      "females    3.944393\n",
      "dtype: float64\n"
     ]
    },
    {
     "data": {
      "image/png": "[encoded data removed]",
      "text/plain": [
       "<Figure size 432x288 with 1 Axes>"
      ]
     },
     "metadata": {
      "needs_background": "light"
     },
     "output_type": "display_data"
    },
    {
     "name": "stdout",
     "output_type": "stream",
     "text": [
      "Ttest_indResult(statistic=-0.6899928109209502, pvalue=0.4902360402696986)\n"
     ]
    }
   ],
   "source": [
    "tvtime = pd.DataFrame()\n",
    "tvtime['males'] = df.loc[df['gndr'] == 1.0].loc[df['year'] == 6].reset_index()['tvtot']\n",
    "tvtime['females'] = df.loc[df['gndr'] == 2.0].loc[df['year'] == 6].reset_index()['tvtot']\n",
    "tvtime.hist(sharey = True, sharex = True)\n",
    "plt.show()\n",
    "print(tvtime.mean())\n",
    "tvtime.boxplot()\n",
    "plt.show()\n",
    "print(stats.ttest_ind(tvtime['males'].dropna(), tvtime['females'].dropna()))"
   ]
  },
  {
   "cell_type": "markdown",
   "metadata": {},
   "source": [
    "No statistically significant difference between the reported TV watch time of males and females."
   ]
  },
  {
   "cell_type": "code",
   "execution_count": 58,
   "metadata": {},
   "outputs": [
    {
     "data": {
      "image/png": "[encoded data removed]",
      "text/plain": [
       "<Figure size 432x288 with 2 Axes>"
      ]
     },
     "metadata": {
      "needs_background": "light"
     },
     "output_type": "display_data"
    },
    {
     "name": "stdout",
     "output_type": "stream",
     "text": [
      "partner      6.080736\n",
      "nopartner    5.856965\n",
      "dtype: float64\n"
     ]
    },
    {
     "data": {
      "image/png": "[encoded data removed]",
      "text/plain": [
       "<Figure size 432x288 with 1 Axes>"
      ]
     },
     "metadata": {
      "needs_background": "light"
     },
     "output_type": "display_data"
    },
    {
     "name": "stdout",
     "output_type": "stream",
     "text": [
      "Ttest_indResult(statistic=3.3201033970362084, pvalue=0.0009073952609883756)\n"
     ]
    }
   ],
   "source": [
    "fairness = pd.DataFrame()\n",
    "fairness['partner'] = df.loc[df['partner'] == 1.0].loc[df['year'] == 6].reset_index()['pplfair']\n",
    "fairness['nopartner'] = df.loc[df['partner'] == 2.0].loc[df['year'] == 6].reset_index()['pplfair']\n",
    "fairness.hist(sharey = True, sharex = True)\n",
    "plt.show()\n",
    "print(fairness.mean())\n",
    "fairness.boxplot()\n",
    "plt.show()\n",
    "print(stats.ttest_ind(fairness['partner'].dropna(), fairness['nopartner'].dropna()))"
   ]
  },
  {
   "cell_type": "markdown",
   "metadata": {},
   "source": [
    "In 2012, those with a partner were significantly more presisposed towards rating people as fairer."
   ]
  },
  {
   "cell_type": "code",
   "execution_count": 68,
   "metadata": {},
   "outputs": [
    {
     "data": {
      "image/png": "[encoded data removed]",
      "text/plain": [
       "<Figure size 432x288 with 4 Axes>"
      ]
     },
     "metadata": {
      "needs_background": "light"
     },
     "output_type": "display_data"
    },
    {
     "name": "stdout",
     "output_type": "stream",
     "text": [
      "Spain          5.260116\n",
      "Sweden         5.426211\n",
      "Norway         5.302326\n",
      "Switzerland    5.160622\n",
      "dtype: float64\n"
     ]
    },
    {
     "data": {
      "image/png": "[encoded data removed]",
      "text/plain": [
       "<Figure size 432x288 with 1 Axes>"
      ]
     },
     "metadata": {
      "needs_background": "light"
     },
     "output_type": "display_data"
    },
    {
     "name": "stdout",
     "output_type": "stream",
     "text": [
      "0.001106621438920195\n",
      "Spain vs Sweden\n",
      "Ttest_indResult(statistic=-2.649547268580078, pvalue=0.00811992279651295)\n",
      "Spain vs Norway\n",
      "Ttest_indResult(statistic=-0.632916395870007, pvalue=0.5268628350318294)\n",
      "Spain vs Switzerland\n",
      "Ttest_indResult(statistic=1.5343317353073618, pvalue=0.12510774525042745)\n",
      "Sweden vs Spain\n",
      "Ttest_indResult(statistic=2.649547268580078, pvalue=0.00811992279651295)\n",
      "Sweden vs Norway\n",
      "Ttest_indResult(statistic=1.8305856428076237, pvalue=0.06734412432597783)\n",
      "Sweden vs Switzerland\n",
      "Ttest_indResult(statistic=4.037131044403062, pvalue=5.654598600313532e-05)\n",
      "Norway vs Spain\n",
      "Ttest_indResult(statistic=0.632916395870007, pvalue=0.5268628350318294)\n",
      "Norway vs Sweden\n",
      "Ttest_indResult(statistic=-1.8305856428076237, pvalue=0.06734412432597783)\n",
      "Norway vs Switzerland\n",
      "Ttest_indResult(statistic=2.067962986557216, pvalue=0.03881448528868391)\n",
      "Switzerland vs Spain\n",
      "Ttest_indResult(statistic=-1.5343317353073618, pvalue=0.12510774525042745)\n",
      "Switzerland vs Sweden\n",
      "Ttest_indResult(statistic=-4.037131044403062, pvalue=5.654598600313532e-05)\n",
      "Switzerland vs Norway\n",
      "Ttest_indResult(statistic=-2.067962986557216, pvalue=0.03881448528868391)\n"
     ]
    }
   ],
   "source": [
    "pplmeet = pd.DataFrame()\n",
    "pplmeet['Spain'] = df.loc[df['cntry'] == 'ES'].loc[df['year'] == 7].reset_index()['sclmeet']\n",
    "pplmeet['Sweden'] = df.loc[df['cntry'] == 'SE'].loc[df['year'] == 7].reset_index()['sclmeet']\n",
    "pplmeet['Norway'] = df.loc[df['cntry'] == 'NO'].loc[df['year'] == 7].reset_index()['sclmeet']\n",
    "pplmeet['Switzerland'] = df.loc[df['cntry'] == 'CH'].loc[df['year'] == 7].reset_index()['sclmeet']\n",
    "pplmeet.hist(sharey = True, sharex = True)\n",
    "plt.show()\n",
    "print(pplmeet.mean())\n",
    "pplmeet.boxplot()\n",
    "plt.show()\n",
    "F, p = stats.f_oneway(\n",
    "    pplmeet['Spain'].dropna(),\n",
    "    pplmeet['Sweden'].dropna(),\n",
    "    pplmeet['Norway'].dropna(),\n",
    "    pplmeet['Switzerland'].dropna())\n",
    "print(p)\n",
    "countries = ['Spain', 'Sweden', 'Norway', 'Switzerland']\n",
    "for cntry1 in countries:\n",
    "    for cntry2 in countries:\n",
    "        if cntry1 != cntry2:\n",
    "            print(cntry1 + \" vs \" + cntry2)\n",
    "            print(stats.ttest_ind(pplmeet[cntry1].dropna(), pplmeet[cntry2].dropna()))"
   ]
  },
  {
   "cell_type": "markdown",
   "metadata": {},
   "source": [
    "Sweden is different from Switzerland and Spain with statistical significance. Switzerland and Norway are also statistically significantly different. Sweden being signicantly more sociable than all but Norway, and Norway being significantly more sociable than only Switzerland."
   ]
  },
  {
   "cell_type": "code",
   "execution_count": 75,
   "metadata": {},
   "outputs": [
    {
     "name": "stdout",
     "output_type": "stream",
     "text": [
      "66\n",
      "68\n",
      "63\n",
      "60\n"
     ]
    },
    {
     "data": {
      "image/png": "[encoded data removed]",
      "text/plain": [
       "<Figure size 432x288 with 4 Axes>"
      ]
     },
     "metadata": {
      "needs_background": "light"
     },
     "output_type": "display_data"
    },
    {
     "name": "stdout",
     "output_type": "stream",
     "text": [
      "Sweden         6.161765\n",
      "Spain          5.892308\n",
      "Norway         6.206349\n",
      "Switzerland    5.616667\n",
      "dtype: float64\n"
     ]
    },
    {
     "data": {
      "image/png": "[encoded data removed]",
      "text/plain": [
       "<Figure size 432x288 with 1 Axes>"
      ]
     },
     "metadata": {
      "needs_background": "light"
     },
     "output_type": "display_data"
    },
    {
     "name": "stdout",
     "output_type": "stream",
     "text": [
      "0.006908460506898246\n",
      "Spain vs Sweden\n",
      "Ttest_indResult(statistic=-1.5389479250348466, pvalue=0.126229011990158)\n",
      "Spain vs Norway\n",
      "Ttest_indResult(statistic=-1.8792964303803592, pvalue=0.06251394122220814)\n",
      "Spain vs Switzerland\n",
      "Ttest_indResult(statistic=1.4409355461276638, pvalue=0.15214376373422675)\n",
      "Sweden vs Spain\n",
      "Ttest_indResult(statistic=1.5389479250348466, pvalue=0.126229011990158)\n",
      "Sweden vs Norway\n",
      "Ttest_indResult(statistic=-0.24340597885855314, pvalue=0.808077555136068)\n",
      "Sweden vs Switzerland\n",
      "Ttest_indResult(statistic=2.6541365290519487, pvalue=0.008976273946059253)\n",
      "Norway vs Spain\n",
      "Ttest_indResult(statistic=1.8792964303803592, pvalue=0.06251394122220814)\n",
      "Norway vs Sweden\n",
      "Ttest_indResult(statistic=0.24340597885855314, pvalue=0.808077555136068)\n",
      "Norway vs Switzerland\n",
      "Ttest_indResult(statistic=2.950800923081422, pvalue=0.003806837287895911)\n",
      "Switzerland vs Spain\n",
      "Ttest_indResult(statistic=-1.4409355461276638, pvalue=0.15214376373422675)\n",
      "Switzerland vs Sweden\n",
      "Ttest_indResult(statistic=-2.6541365290519487, pvalue=0.008976273946059253)\n",
      "Switzerland vs Norway\n",
      "Ttest_indResult(statistic=-2.950800923081422, pvalue=0.003806837287895911)\n"
     ]
    }
   ],
   "source": [
    "pplmeet = pd.DataFrame()\n",
    "df_young = df.loc[df['agea'] < 20]\n",
    "print(len(df_young.loc[df_young['cntry'] == 'ES'].loc[df_young['year'] == 7].reset_index()['sclmeet']))\n",
    "print(len(df_young.loc[df_young['cntry'] == 'SE'].loc[df_young['year'] == 7].reset_index()['sclmeet']))\n",
    "print(len(df_young.loc[df_young['cntry'] == 'NO'].loc[df_young['year'] == 7].reset_index()['sclmeet']))\n",
    "print(len(df_young.loc[df_young['cntry'] == 'CH'].loc[df_young['year'] == 7].reset_index()['sclmeet']))\n",
    "\n",
    "\n",
    "pplmeet['Sweden'] = df_young.loc[df_young['cntry'] == 'SE'].loc[df_young['year'] == 7].reset_index()['sclmeet']\n",
    "pplmeet['Spain'] = df_young.loc[df_young['cntry'] == 'ES'].loc[df_young['year'] == 7].reset_index()['sclmeet']\n",
    "pplmeet['Norway'] = df_young.loc[df_young['cntry'] == 'NO'].loc[df_young['year'] == 7].reset_index()['sclmeet']\n",
    "pplmeet['Switzerland'] = df_young.loc[df_young['cntry'] == 'CH'].loc[df_young['year'] == 7].reset_index()['sclmeet']\n",
    "pplmeet.hist(sharey = True, sharex = True)\n",
    "plt.show()\n",
    "print(pplmeet.mean())\n",
    "pplmeet.boxplot()\n",
    "plt.show()\n",
    "F, p = stats.f_oneway(\n",
    "    pplmeet['Spain'].dropna(),\n",
    "    pplmeet['Sweden'].dropna(),\n",
    "    pplmeet['Norway'].dropna(),\n",
    "    pplmeet['Switzerland'].dropna())\n",
    "print(p)\n",
    "countries = ['Spain', 'Sweden', 'Norway', 'Switzerland']\n",
    "for cntry1 in countries:\n",
    "    for cntry2 in countries:\n",
    "        if cntry1 != cntry2:\n",
    "            print(cntry1 + \" vs \" + cntry2)\n",
    "            print(stats.ttest_ind(pplmeet[cntry1].dropna(), pplmeet[cntry2].dropna()))"
   ]
  },
  {
   "cell_type": "markdown",
   "metadata": {},
   "source": [
    "People under the age of 20 in Switzerland are significantly less social than those their age in the other countries."
   ]
  },
  {
   "cell_type": "code",
   "execution_count": 77,
   "metadata": {},
   "outputs": [
    {
     "name": "stdout",
     "output_type": "stream",
     "text": [
      "330\n",
      "224\n",
      "184\n",
      "236\n"
     ]
    },
    {
     "data": {
      "image/png": "[encoded data removed]",
      "text/plain": [
       "<Figure size 432x288 with 4 Axes>"
      ]
     },
     "metadata": {
      "needs_background": "light"
     },
     "output_type": "display_data"
    },
    {
     "name": "stdout",
     "output_type": "stream",
     "text": [
      "Spain          5.428571\n",
      "Sweden         5.812500\n",
      "Norway         5.494565\n",
      "Switzerland    5.483051\n",
      "dtype: float64\n"
     ]
    },
    {
     "data": {
      "image/png": "[encoded data removed]",
      "text/plain": [
       "<Figure size 432x288 with 1 Axes>"
      ]
     },
     "metadata": {
      "needs_background": "light"
     },
     "output_type": "display_data"
    },
    {
     "name": "stdout",
     "output_type": "stream",
     "text": [
      "0.002486450490913877\n",
      "Spain vs Sweden\n",
      "Ttest_indResult(statistic=-3.6009852891602723, pvalue=0.00034564570180985773)\n",
      "Spain vs Norway\n",
      "Ttest_indResult(statistic=-0.5671083553226028, pvalue=0.5708895965425465)\n",
      "Spain vs Switzerland\n",
      "Ttest_indResult(statistic=-0.5287028439280946, pvalue=0.5972199626624795)\n",
      "Sweden vs Spain\n",
      "Ttest_indResult(statistic=3.6009852891602723, pvalue=0.00034564570180985773)\n",
      "Sweden vs Norway\n",
      "Ttest_indResult(statistic=2.5330715250115725, pvalue=0.011682348130556264)\n",
      "Sweden vs Switzerland\n",
      "Ttest_indResult(statistic=2.962188246278843, pvalue=0.0032135124047861854)\n",
      "Norway vs Spain\n",
      "Ttest_indResult(statistic=0.5671083553226028, pvalue=0.5708895965425465)\n",
      "Norway vs Sweden\n",
      "Ttest_indResult(statistic=-2.5330715250115725, pvalue=0.011682348130556264)\n",
      "Norway vs Switzerland\n",
      "Ttest_indResult(statistic=0.09514628921710691, pvalue=0.9242442258649847)\n",
      "Switzerland vs Spain\n",
      "Ttest_indResult(statistic=0.5287028439280946, pvalue=0.5972199626624795)\n",
      "Switzerland vs Sweden\n",
      "Ttest_indResult(statistic=-2.962188246278843, pvalue=0.0032135124047861854)\n",
      "Switzerland vs Norway\n",
      "Ttest_indResult(statistic=-0.09514628921710691, pvalue=0.9242442258649847)\n"
     ]
    }
   ],
   "source": [
    "pplmeet = pd.DataFrame()\n",
    "df_young = df.loc[df['agea'] < 40].loc[df['agea'] > 20]\n",
    "print(len(df_young.loc[df_young['cntry'] == 'ES'].loc[df_young['year'] == 7].reset_index()['sclmeet']))\n",
    "print(len(df_young.loc[df_young['cntry'] == 'SE'].loc[df_young['year'] == 7].reset_index()['sclmeet']))\n",
    "print(len(df_young.loc[df_young['cntry'] == 'NO'].loc[df_young['year'] == 7].reset_index()['sclmeet']))\n",
    "print(len(df_young.loc[df_young['cntry'] == 'CH'].loc[df_young['year'] == 7].reset_index()['sclmeet']))\n",
    "\n",
    "\n",
    "pplmeet['Spain'] = df_young.loc[df_young['cntry'] == 'ES'].loc[df_young['year'] == 7].reset_index()['sclmeet']\n",
    "pplmeet['Sweden'] = df_young.loc[df_young['cntry'] == 'SE'].loc[df_young['year'] == 7].reset_index()['sclmeet']\n",
    "pplmeet['Norway'] = df_young.loc[df_young['cntry'] == 'NO'].loc[df_young['year'] == 7].reset_index()['sclmeet']\n",
    "pplmeet['Switzerland'] = df_young.loc[df_young['cntry'] == 'CH'].loc[df_young['year'] == 7].reset_index()['sclmeet']\n",
    "pplmeet.hist(sharey = True, sharex = True)\n",
    "plt.show()\n",
    "print(pplmeet.mean())\n",
    "pplmeet.boxplot()\n",
    "plt.show()\n",
    "F, p = stats.f_oneway(\n",
    "    pplmeet['Spain'].dropna(),\n",
    "    pplmeet['Sweden'].dropna(),\n",
    "    pplmeet['Norway'].dropna(),\n",
    "    pplmeet['Switzerland'].dropna())\n",
    "print(p)\n",
    "countries = ['Spain', 'Sweden', 'Norway', 'Switzerland']\n",
    "for cntry1 in countries:\n",
    "    for cntry2 in countries:\n",
    "        if cntry1 != cntry2:\n",
    "            print(cntry1 + \" vs \" + cntry2)\n",
    "            print(stats.ttest_ind(pplmeet[cntry1].dropna(), pplmeet[cntry2].dropna()))"
   ]
  },
  {
   "cell_type": "markdown",
   "metadata": {},
   "source": [
    "Those between the ages of 20 and 40 in Sweden are significantly more social than those their age in the other countries."
   ]
  },
  {
   "cell_type": "code",
   "execution_count": 79,
   "metadata": {},
   "outputs": [
    {
     "name": "stdout",
     "output_type": "stream",
     "text": [
      "416\n",
      "257\n",
      "256\n",
      "230\n"
     ]
    },
    {
     "data": {
      "image/png": "[encoded data removed]",
      "text/plain": [
       "<Figure size 432x288 with 4 Axes>"
      ]
     },
     "metadata": {
      "needs_background": "light"
     },
     "output_type": "display_data"
    },
    {
     "name": "stdout",
     "output_type": "stream",
     "text": [
      "Spain          4.992788\n",
      "Sweden         5.385214\n",
      "Norway         5.121094\n",
      "Switzerland    5.026201\n",
      "dtype: float64\n"
     ]
    },
    {
     "data": {
      "image/png": "[encoded data removed]",
      "text/plain": [
       "<Figure size 432x288 with 1 Axes>"
      ]
     },
     "metadata": {
      "needs_background": "light"
     },
     "output_type": "display_data"
    },
    {
     "name": "stdout",
     "output_type": "stream",
     "text": [
      "0.004765836029063298\n",
      "Spain vs Sweden\n",
      "Ttest_indResult(statistic=-3.301676340601238, pvalue=0.0010120331325598547)\n",
      "Spain vs Norway\n",
      "Ttest_indResult(statistic=-1.1062817219978966, pvalue=0.26900165426241845)\n",
      "Spain vs Switzerland\n",
      "Ttest_indResult(statistic=-0.2868147832704797, pvalue=0.7743465382464766)\n",
      "Sweden vs Spain\n",
      "Ttest_indResult(statistic=3.301676340601238, pvalue=0.0010120331325598547)\n",
      "Sweden vs Norway\n",
      "Ttest_indResult(statistic=2.049762965074543, pvalue=0.04089742616462174)\n",
      "Sweden vs Switzerland\n",
      "Ttest_indResult(statistic=2.821845447028855, pvalue=0.004971229564433552)\n",
      "Norway vs Spain\n",
      "Ttest_indResult(statistic=1.1062817219978966, pvalue=0.26900165426241845)\n",
      "Norway vs Sweden\n",
      "Ttest_indResult(statistic=-2.049762965074543, pvalue=0.04089742616462174)\n",
      "Norway vs Switzerland\n",
      "Ttest_indResult(statistic=0.7768600620891412, pvalue=0.43762162373903546)\n",
      "Switzerland vs Spain\n",
      "Ttest_indResult(statistic=0.2868147832704797, pvalue=0.7743465382464766)\n",
      "Switzerland vs Sweden\n",
      "Ttest_indResult(statistic=-2.821845447028855, pvalue=0.004971229564433552)\n",
      "Switzerland vs Norway\n",
      "Ttest_indResult(statistic=-0.7768600620891412, pvalue=0.43762162373903546)\n"
     ]
    }
   ],
   "source": [
    "pplmeet = pd.DataFrame()\n",
    "df_young = df.loc[df['agea'] < 60].loc[df['agea'] > 40]\n",
    "print(len(df_young.loc[df_young['cntry'] == 'ES'].loc[df_young['year'] == 7].reset_index()['sclmeet']))\n",
    "print(len(df_young.loc[df_young['cntry'] == 'SE'].loc[df_young['year'] == 7].reset_index()['sclmeet']))\n",
    "print(len(df_young.loc[df_young['cntry'] == 'NO'].loc[df_young['year'] == 7].reset_index()['sclmeet']))\n",
    "print(len(df_young.loc[df_young['cntry'] == 'CH'].loc[df_young['year'] == 7].reset_index()['sclmeet']))\n",
    "\n",
    "\n",
    "pplmeet['Spain'] = df_young.loc[df_young['cntry'] == 'ES'].loc[df_young['year'] == 7].reset_index()['sclmeet']\n",
    "pplmeet['Sweden'] = df_young.loc[df_young['cntry'] == 'SE'].loc[df_young['year'] == 7].reset_index()['sclmeet']\n",
    "pplmeet['Norway'] = df_young.loc[df_young['cntry'] == 'NO'].loc[df_young['year'] == 7].reset_index()['sclmeet']\n",
    "pplmeet['Switzerland'] = df_young.loc[df_young['cntry'] == 'CH'].loc[df_young['year'] == 7].reset_index()['sclmeet']\n",
    "pplmeet.hist(sharey = True, sharex = True)\n",
    "plt.show()\n",
    "print(pplmeet.mean())\n",
    "pplmeet.boxplot()\n",
    "plt.show()\n",
    "F, p = stats.f_oneway(\n",
    "    pplmeet['Spain'].dropna(),\n",
    "    pplmeet['Sweden'].dropna(),\n",
    "    pplmeet['Norway'].dropna(),\n",
    "    pplmeet['Switzerland'].dropna())\n",
    "print(p)\n",
    "countries = ['Spain', 'Sweden', 'Norway', 'Switzerland']\n",
    "for cntry1 in countries:\n",
    "    for cntry2 in countries:\n",
    "        if cntry1 != cntry2:\n",
    "            print(cntry1 + \" vs \" + cntry2)\n",
    "            print(stats.ttest_ind(pplmeet[cntry1].dropna(), pplmeet[cntry2].dropna()))"
   ]
  },
  {
   "cell_type": "markdown",
   "metadata": {},
   "source": [
    "Once again, those in Sweden between the ages of 40 and 60 are significantly more social than those their age in the other countries."
   ]
  },
  {
   "cell_type": "code",
   "execution_count": 80,
   "metadata": {},
   "outputs": [
    {
     "name": "stdout",
     "output_type": "stream",
     "text": [
      "312\n",
      "301\n",
      "181\n",
      "187\n"
     ]
    },
    {
     "data": {
      "image/png": "[encoded data removed]",
      "text/plain": [
       "<Figure size 432x288 with 4 Axes>"
      ]
     },
     "metadata": {
      "needs_background": "light"
     },
     "output_type": "display_data"
    },
    {
     "name": "stdout",
     "output_type": "stream",
     "text": [
      "Spain          5.381410\n",
      "Sweden         5.069767\n",
      "Norway         5.066298\n",
      "Switzerland    4.770053\n",
      "dtype: float64\n"
     ]
    },
    {
     "data": {
      "image/png": "[encoded data removed]",
      "text/plain": [
       "<Figure size 432x288 with 1 Axes>"
      ]
     },
     "metadata": {
      "needs_background": "light"
     },
     "output_type": "display_data"
    },
    {
     "name": "stdout",
     "output_type": "stream",
     "text": [
      "4.263127511216108e-05\n",
      "Spain vs Sweden\n",
      "Ttest_indResult(statistic=2.672198675073295, pvalue=0.007736656966916139)\n",
      "Spain vs Norway\n",
      "Ttest_indResult(statistic=2.300966080189318, pvalue=0.021811637612373622)\n",
      "Spain vs Switzerland\n",
      "Ttest_indResult(statistic=4.340682267513907, pvalue=1.721823540628473e-05)\n",
      "Sweden vs Spain\n",
      "Ttest_indResult(statistic=-2.672198675073295, pvalue=0.007736656966916139)\n",
      "Sweden vs Norway\n",
      "Ttest_indResult(statistic=0.029219963082324496, pvalue=0.9767013045906187)\n",
      "Sweden vs Switzerland\n",
      "Ttest_indResult(statistic=2.416031826007847, pvalue=0.01605835667244703)\n",
      "Norway vs Spain\n",
      "Ttest_indResult(statistic=-2.300966080189318, pvalue=0.021811637612373622)\n",
      "Norway vs Sweden\n",
      "Ttest_indResult(statistic=-0.029219963082324496, pvalue=0.9767013045906187)\n",
      "Norway vs Switzerland\n",
      "Ttest_indResult(statistic=2.141301676905436, pvalue=0.03290961177355089)\n",
      "Switzerland vs Spain\n",
      "Ttest_indResult(statistic=-4.340682267513907, pvalue=1.721823540628473e-05)\n",
      "Switzerland vs Sweden\n",
      "Ttest_indResult(statistic=-2.416031826007847, pvalue=0.01605835667244703)\n",
      "Switzerland vs Norway\n",
      "Ttest_indResult(statistic=-2.141301676905436, pvalue=0.03290961177355089)\n"
     ]
    }
   ],
   "source": [
    "pplmeet = pd.DataFrame()\n",
    "df_young = df.loc[df['agea'] > 60]\n",
    "print(len(df_young.loc[df_young['cntry'] == 'ES'].loc[df_young['year'] == 7].reset_index()['sclmeet']))\n",
    "print(len(df_young.loc[df_young['cntry'] == 'SE'].loc[df_young['year'] == 7].reset_index()['sclmeet']))\n",
    "print(len(df_young.loc[df_young['cntry'] == 'NO'].loc[df_young['year'] == 7].reset_index()['sclmeet']))\n",
    "print(len(df_young.loc[df_young['cntry'] == 'CH'].loc[df_young['year'] == 7].reset_index()['sclmeet']))\n",
    "\n",
    "\n",
    "pplmeet['Spain'] = df_young.loc[df_young['cntry'] == 'ES'].loc[df_young['year'] == 7].reset_index()['sclmeet']\n",
    "pplmeet['Sweden'] = df_young.loc[df_young['cntry'] == 'SE'].loc[df_young['year'] == 7].reset_index()['sclmeet']\n",
    "pplmeet['Norway'] = df_young.loc[df_young['cntry'] == 'NO'].loc[df_young['year'] == 7].reset_index()['sclmeet']\n",
    "pplmeet['Switzerland'] = df_young.loc[df_young['cntry'] == 'CH'].loc[df_young['year'] == 7].reset_index()['sclmeet']\n",
    "pplmeet.hist(sharey = True, sharex = True)\n",
    "plt.show()\n",
    "print(pplmeet.mean())\n",
    "pplmeet.boxplot()\n",
    "plt.show()\n",
    "F, p = stats.f_oneway(\n",
    "    pplmeet['Spain'].dropna(),\n",
    "    pplmeet['Sweden'].dropna(),\n",
    "    pplmeet['Norway'].dropna(),\n",
    "    pplmeet['Switzerland'].dropna())\n",
    "print(p)\n",
    "countries = ['Spain', 'Sweden', 'Norway', 'Switzerland']\n",
    "for cntry1 in countries:\n",
    "    for cntry2 in countries:\n",
    "        if cntry1 != cntry2:\n",
    "            print(cntry1 + \" vs \" + cntry2)\n",
    "            print(stats.ttest_ind(pplmeet[cntry1].dropna(), pplmeet[cntry2].dropna()))"
   ]
  },
  {
   "cell_type": "code",
   "execution_count": null,
   "metadata": {},
   "outputs": [],
   "source": []
  }
 ],
 "metadata": {
  "kernelspec": {
   "display_name": "Python 3",
   "language": "python",
   "name": "python3"
  },
  "language_info": {
   "codemirror_mode": {
    "name": "ipython",
    "version": 3
   },
   "file_extension": ".py",
   "mimetype": "text/x-python",
   "name": "python",
   "nbconvert_exporter": "python",
   "pygments_lexer": "ipython3",
   "version": "3.7.1"
  }
 },
 "nbformat": 4,
 "nbformat_minor": 2
}
