{
 "cells": [
  {
   "cell_type": "code",
   "execution_count": 13,
   "metadata": {
    "scrolled": false
   },
   "outputs": [
    {
     "name": "stdout",
     "output_type": "stream",
     "text": [
      "[ 1  6  5  7  7  2  6  9 10  7  3  6  3  3  5  7  6  3  3  3  4  8  2  4\n",
      "  2  6  6  3 10  4  2  1  6  5  6  8  6  5  6  4  2  8 12  5  6  2  4  4\n",
      "  7  8  5  3  9  3  5  3  4  7  7  2  7  6  0  6 13  3  4  8  6  5  5  4\n",
      "  3  6  3  5  9  3  9  5  3  6  5  2  7  2  5  7  6  4  8  1  8  0  4  6\n",
      "  2  4 12  4]\n",
      "5.12, 2.562342678097526\n"
     ]
    },
    {
     "data": {
      "image/png": "[encoded data removed]",
      "text/plain": [
       "<Figure size 432x288 with 1 Axes>"
      ]
     },
     "metadata": {
      "needs_background": "light"
     },
     "output_type": "display_data"
    }
   ],
   "source": [
    "import numpy as np\n",
    "import pandas as pd\n",
    "import matplotlib.pyplot as plt\n",
    "\n",
    "poissonvar = np.random.poisson(5,100)\n",
    "print(poissonvar)\n",
    "plt.hist(poissonvar, bins = 10, color = 'red')\n",
    "mean = np.mean(poissonvar)\n",
    "st_dev = np.std(poissonvar)\n",
    "plt.axvline(x = mean)\n",
    "plt.axvline(x = mean + st_dev)\n",
    "plt.axvline(x = mean - st_dev)\n",
    "print(str(mean) + \", \" + str(st_dev))\n",
    "plt.show()"
   ]
  },
  {
   "cell_type": "markdown",
   "metadata": {},
   "source": [
    "The mean is useful for a poisson variable, but the standard deviation is not because the standard deviation can be extrapolated from the mean because it will always be the square root of the mean. The distributions for which the standard deviation is relevant all take it as an input at some point in their formulas, which would be the normal distribution. This is because for the others, if you know the mean, you will be able to determine the behavior of the variable. However, even if one knows the mean of a normally distributed variable, they could not then determine what the graph of the variable would be expected to look like."
   ]
  },
  {
   "cell_type": "code",
   "execution_count": 20,
   "metadata": {
    "scrolled": true
   },
   "outputs": [
    {
     "name": "stdout",
     "output_type": "stream",
     "text": [
      "Mean: 15.005695146219947, Standard Deviation: 1.0875333402523883\n"
     ]
    },
    {
     "data": {
      "image/png": "[encoded data removed]",
      "text/plain": [
       "<Figure size 432x288 with 1 Axes>"
      ]
     },
     "metadata": {
      "needs_background": "light"
     },
     "output_type": "display_data"
    }
   ],
   "source": [
    "import numpy as np\n",
    "import pandas as pd\n",
    "import matplotlib.pyplot as plt\n",
    "\n",
    "dist1 = np.random.normal(5, .5, 1000)\n",
    "dist2 = np.random.normal(10, 1, 1000)\n",
    "dist3 = dist1 + dist2\n",
    "mean = np.mean(dist3)\n",
    "st_dev = np.std(dist3)\n",
    "plt.hist(dist3, bins = 25, color = 'red')\n",
    "print(\"Mean: \" + str(mean) + \", Standard Deviation: \" + str(st_dev))\n",
    "plt.axvline(x = mean)\n",
    "plt.axvline(x = mean + st_dev)\n",
    "plt.axvline(x = mean - st_dev)\n",
    "plt.show()"
   ]
  },
  {
   "cell_type": "markdown",
   "metadata": {},
   "source": [
    "The mean is roughly equal to the sum of the two means and the standard deviation is roughly equal to the square root of the sums of the variances of the two distributions that are summed, both of which are what one would expect."
   ]
  }
 ],
 "metadata": {
  "kernelspec": {
   "display_name": "Python 3",
   "language": "python",
   "name": "python3"
  },
  "language_info": {
   "codemirror_mode": {
    "name": "ipython",
    "version": 3
   },
   "file_extension": ".py",
   "mimetype": "text/x-python",
   "name": "python",
   "nbconvert_exporter": "python",
   "pygments_lexer": "ipython3",
   "version": "3.7.1"
  }
 },
 "nbformat": 4,
 "nbformat_minor": 2
}
