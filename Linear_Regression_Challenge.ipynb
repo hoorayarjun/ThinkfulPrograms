{
 "cells": [
  {
   "cell_type": "code",
   "execution_count": 77,
   "metadata": {},
   "outputs": [],
   "source": [
    "import pandas as pd\n",
    "import numpy as np\n",
    "from sqlalchemy import create_engine\n",
    "import warnings\n",
    "from sklearn import linear_model\n",
    "warnings.filterwarnings('ignore')\n",
    "import statsmodels.api as sm\n",
    "import matplotlib.pyplot as plt\n",
    "from sklearn.model_selection import train_test_split\n",
    "from sklearn.metrics import mean_absolute_error\n",
    "from statsmodels.tools.eval_measures import mse, rmse"
   ]
  },
  {
   "cell_type": "code",
   "execution_count": 78,
   "metadata": {},
   "outputs": [
    {
     "data": {
      "text/html": [
       "<div>\n",
       "<style scoped>\n",
       "    .dataframe tbody tr th:only-of-type {\n",
       "        vertical-align: middle;\n",
       "    }\n",
       "\n",
       "    .dataframe tbody tr th {\n",
       "        vertical-align: top;\n",
       "    }\n",
       "\n",
       "    .dataframe thead th {\n",
       "        text-align: right;\n",
       "    }\n",
       "</style>\n",
       "<table border=\"1\" class=\"dataframe\">\n",
       "  <thead>\n",
       "    <tr style=\"text-align: right;\">\n",
       "      <th></th>\n",
       "      <th>id</th>\n",
       "      <th>mssubclass</th>\n",
       "      <th>mszoning</th>\n",
       "      <th>lotfrontage</th>\n",
       "      <th>lotarea</th>\n",
       "      <th>street</th>\n",
       "      <th>alley</th>\n",
       "      <th>lotshape</th>\n",
       "      <th>landcontour</th>\n",
       "      <th>utilities</th>\n",
       "      <th>...</th>\n",
       "      <th>poolarea</th>\n",
       "      <th>poolqc</th>\n",
       "      <th>fence</th>\n",
       "      <th>miscfeature</th>\n",
       "      <th>miscval</th>\n",
       "      <th>mosold</th>\n",
       "      <th>yrsold</th>\n",
       "      <th>saletype</th>\n",
       "      <th>salecondition</th>\n",
       "      <th>saleprice</th>\n",
       "    </tr>\n",
       "  </thead>\n",
       "  <tbody>\n",
       "    <tr>\n",
       "      <th>0</th>\n",
       "      <td>1</td>\n",
       "      <td>60</td>\n",
       "      <td>RL</td>\n",
       "      <td>65.0</td>\n",
       "      <td>8450</td>\n",
       "      <td>Pave</td>\n",
       "      <td>None</td>\n",
       "      <td>Reg</td>\n",
       "      <td>Lvl</td>\n",
       "      <td>AllPub</td>\n",
       "      <td>...</td>\n",
       "      <td>0</td>\n",
       "      <td>None</td>\n",
       "      <td>None</td>\n",
       "      <td>None</td>\n",
       "      <td>0</td>\n",
       "      <td>2</td>\n",
       "      <td>2008</td>\n",
       "      <td>WD</td>\n",
       "      <td>Normal</td>\n",
       "      <td>208500</td>\n",
       "    </tr>\n",
       "    <tr>\n",
       "      <th>1</th>\n",
       "      <td>2</td>\n",
       "      <td>20</td>\n",
       "      <td>RL</td>\n",
       "      <td>80.0</td>\n",
       "      <td>9600</td>\n",
       "      <td>Pave</td>\n",
       "      <td>None</td>\n",
       "      <td>Reg</td>\n",
       "      <td>Lvl</td>\n",
       "      <td>AllPub</td>\n",
       "      <td>...</td>\n",
       "      <td>0</td>\n",
       "      <td>None</td>\n",
       "      <td>None</td>\n",
       "      <td>None</td>\n",
       "      <td>0</td>\n",
       "      <td>5</td>\n",
       "      <td>2007</td>\n",
       "      <td>WD</td>\n",
       "      <td>Normal</td>\n",
       "      <td>181500</td>\n",
       "    </tr>\n",
       "    <tr>\n",
       "      <th>2</th>\n",
       "      <td>3</td>\n",
       "      <td>60</td>\n",
       "      <td>RL</td>\n",
       "      <td>68.0</td>\n",
       "      <td>11250</td>\n",
       "      <td>Pave</td>\n",
       "      <td>None</td>\n",
       "      <td>IR1</td>\n",
       "      <td>Lvl</td>\n",
       "      <td>AllPub</td>\n",
       "      <td>...</td>\n",
       "      <td>0</td>\n",
       "      <td>None</td>\n",
       "      <td>None</td>\n",
       "      <td>None</td>\n",
       "      <td>0</td>\n",
       "      <td>9</td>\n",
       "      <td>2008</td>\n",
       "      <td>WD</td>\n",
       "      <td>Normal</td>\n",
       "      <td>223500</td>\n",
       "    </tr>\n",
       "    <tr>\n",
       "      <th>3</th>\n",
       "      <td>4</td>\n",
       "      <td>70</td>\n",
       "      <td>RL</td>\n",
       "      <td>60.0</td>\n",
       "      <td>9550</td>\n",
       "      <td>Pave</td>\n",
       "      <td>None</td>\n",
       "      <td>IR1</td>\n",
       "      <td>Lvl</td>\n",
       "      <td>AllPub</td>\n",
       "      <td>...</td>\n",
       "      <td>0</td>\n",
       "      <td>None</td>\n",
       "      <td>None</td>\n",
       "      <td>None</td>\n",
       "      <td>0</td>\n",
       "      <td>2</td>\n",
       "      <td>2006</td>\n",
       "      <td>WD</td>\n",
       "      <td>Abnorml</td>\n",
       "      <td>140000</td>\n",
       "    </tr>\n",
       "    <tr>\n",
       "      <th>4</th>\n",
       "      <td>5</td>\n",
       "      <td>60</td>\n",
       "      <td>RL</td>\n",
       "      <td>84.0</td>\n",
       "      <td>14260</td>\n",
       "      <td>Pave</td>\n",
       "      <td>None</td>\n",
       "      <td>IR1</td>\n",
       "      <td>Lvl</td>\n",
       "      <td>AllPub</td>\n",
       "      <td>...</td>\n",
       "      <td>0</td>\n",
       "      <td>None</td>\n",
       "      <td>None</td>\n",
       "      <td>None</td>\n",
       "      <td>0</td>\n",
       "      <td>12</td>\n",
       "      <td>2008</td>\n",
       "      <td>WD</td>\n",
       "      <td>Normal</td>\n",
       "      <td>250000</td>\n",
       "    </tr>\n",
       "  </tbody>\n",
       "</table>\n",
       "<p>5 rows × 81 columns</p>\n",
       "</div>"
      ],
      "text/plain": [
       "   id  mssubclass mszoning  lotfrontage  lotarea street alley lotshape  \\\n",
       "0   1          60       RL         65.0     8450   Pave  None      Reg   \n",
       "1   2          20       RL         80.0     9600   Pave  None      Reg   \n",
       "2   3          60       RL         68.0    11250   Pave  None      IR1   \n",
       "3   4          70       RL         60.0     9550   Pave  None      IR1   \n",
       "4   5          60       RL         84.0    14260   Pave  None      IR1   \n",
       "\n",
       "  landcontour utilities  ... poolarea poolqc fence miscfeature miscval mosold  \\\n",
       "0         Lvl    AllPub  ...        0   None  None        None       0      2   \n",
       "1         Lvl    AllPub  ...        0   None  None        None       0      5   \n",
       "2         Lvl    AllPub  ...        0   None  None        None       0      9   \n",
       "3         Lvl    AllPub  ...        0   None  None        None       0      2   \n",
       "4         Lvl    AllPub  ...        0   None  None        None       0     12   \n",
       "\n",
       "  yrsold  saletype  salecondition  saleprice  \n",
       "0   2008        WD         Normal     208500  \n",
       "1   2007        WD         Normal     181500  \n",
       "2   2008        WD         Normal     223500  \n",
       "3   2006        WD        Abnorml     140000  \n",
       "4   2008        WD         Normal     250000  \n",
       "\n",
       "[5 rows x 81 columns]"
      ]
     },
     "execution_count": 78,
     "metadata": {},
     "output_type": "execute_result"
    }
   ],
   "source": [
    "postgres_user = 'dsbc_student'\n",
    "postgres_pw = '7*.8G9QH21'\n",
    "postgres_host = '142.93.121.174'\n",
    "postgres_port = '5432'\n",
    "postgres_db = 'houseprices'\n",
    "\n",
    "engine = create_engine('postgresql://{}:{}@{}:{}/{}'.format(\n",
    "    postgres_user, postgres_pw, postgres_host, postgres_port, postgres_db))\n",
    "\n",
    "house_df = pd.read_sql_query('select * from houseprices',con=engine)\n",
    "engine.dispose()\n",
    "house_df.head()"
   ]
  },
  {
   "cell_type": "code",
   "execution_count": 79,
   "metadata": {},
   "outputs": [
    {
     "data": {
      "text/plain": [
       "mszoning_C (all)        -0.111257\n",
       "mszoning_FV              0.089950\n",
       "mszoning_RH             -0.065429\n",
       "mszoning_RL              0.245063\n",
       "mszoning_RM             -0.288065\n",
       "street_Grvl             -0.041036\n",
       "street_Pave              0.041036\n",
       "lotshape_IR1             0.223284\n",
       "lotshape_IR2             0.126096\n",
       "lotshape_IR3             0.036720\n",
       "lotshape_Reg            -0.267672\n",
       "utilities_AllPub         0.014314\n",
       "utilities_NoSeWa        -0.014314\n",
       "salecondition_Abnorml   -0.118069\n",
       "salecondition_AdjLand   -0.050686\n",
       "salecondition_Alloca    -0.015525\n",
       "salecondition_Family    -0.046480\n",
       "salecondition_Normal    -0.153990\n",
       "salecondition_Partial    0.352060\n",
       "saleprice                1.000000\n",
       "Name: saleprice, dtype: float64"
      ]
     },
     "execution_count": 79,
     "metadata": {},
     "output_type": "execute_result"
    }
   ],
   "source": [
    "dummies = pd.get_dummies(house_df[['mszoning', 'street', 'lotshape', 'utilities', 'salecondition']])\n",
    "dummies['saleprice'] = house_df['saleprice']\n",
    "dummies.corr()['saleprice']"
   ]
  },
  {
   "cell_type": "code",
   "execution_count": 80,
   "metadata": {},
   "outputs": [
    {
     "data": {
      "text/plain": [
       "id                0.000000\n",
       "mssubclass        0.000000\n",
       "mszoning          0.000000\n",
       "lotfrontage      17.739726\n",
       "lotarea           0.000000\n",
       "street            0.000000\n",
       "alley            93.767123\n",
       "lotshape          0.000000\n",
       "landcontour       0.000000\n",
       "utilities         0.000000\n",
       "lotconfig         0.000000\n",
       "landslope         0.000000\n",
       "neighborhood      0.000000\n",
       "condition1        0.000000\n",
       "condition2        0.000000\n",
       "bldgtype          0.000000\n",
       "housestyle        0.000000\n",
       "overallqual       0.000000\n",
       "overallcond       0.000000\n",
       "yearbuilt         0.000000\n",
       "yearremodadd      0.000000\n",
       "roofstyle         0.000000\n",
       "roofmatl          0.000000\n",
       "exterior1st       0.000000\n",
       "exterior2nd       0.000000\n",
       "masvnrtype        0.547945\n",
       "masvnrarea        0.547945\n",
       "exterqual         0.000000\n",
       "extercond         0.000000\n",
       "foundation        0.000000\n",
       "                   ...    \n",
       "bedroomabvgr      0.000000\n",
       "kitchenabvgr      0.000000\n",
       "kitchenqual       0.000000\n",
       "totrmsabvgrd      0.000000\n",
       "functional        0.000000\n",
       "fireplaces        0.000000\n",
       "fireplacequ      47.260274\n",
       "garagetype        5.547945\n",
       "garageyrblt       5.547945\n",
       "garagefinish      5.547945\n",
       "garagecars        0.000000\n",
       "garagearea        0.000000\n",
       "garagequal        5.547945\n",
       "garagecond        5.547945\n",
       "paveddrive        0.000000\n",
       "wooddecksf        0.000000\n",
       "openporchsf       0.000000\n",
       "enclosedporch     0.000000\n",
       "threessnporch     0.000000\n",
       "screenporch       0.000000\n",
       "poolarea          0.000000\n",
       "poolqc           99.520548\n",
       "fence            80.753425\n",
       "miscfeature      96.301370\n",
       "miscval           0.000000\n",
       "mosold            0.000000\n",
       "yrsold            0.000000\n",
       "saletype          0.000000\n",
       "salecondition     0.000000\n",
       "saleprice         0.000000\n",
       "Length: 81, dtype: float64"
      ]
     },
     "execution_count": 80,
     "metadata": {},
     "output_type": "execute_result"
    }
   ],
   "source": [
    "100*house_df.isnull().sum()/house_df.isnull().count()"
   ]
  },
  {
   "cell_type": "code",
   "execution_count": 81,
   "metadata": {},
   "outputs": [
    {
     "name": "stdout",
     "output_type": "stream",
     "text": [
      "lotarea\n"
     ]
    },
    {
     "data": {
      "image/png": "[encoded data removed]",
      "text/plain": [
       "<Figure size 432x288 with 2 Axes>"
      ]
     },
     "metadata": {
      "needs_background": "light"
     },
     "output_type": "display_data"
    },
    {
     "name": "stdout",
     "output_type": "stream",
     "text": [
      "overallqual\n"
     ]
    },
    {
     "data": {
      "image/png": "[encoded data removed]",
      "text/plain": [
       "<Figure size 432x288 with 2 Axes>"
      ]
     },
     "metadata": {
      "needs_background": "light"
     },
     "output_type": "display_data"
    },
    {
     "name": "stdout",
     "output_type": "stream",
     "text": [
      "grlivarea\n"
     ]
    },
    {
     "data": {
      "image/png": "[encoded data removed]",
      "text/plain": [
       "<Figure size 432x288 with 2 Axes>"
      ]
     },
     "metadata": {
      "needs_background": "light"
     },
     "output_type": "display_data"
    },
    {
     "name": "stdout",
     "output_type": "stream",
     "text": [
      "totalbsmtsf\n"
     ]
    },
    {
     "data": {
      "image/png": "[encoded data removed]",
      "text/plain": [
       "<Figure size 432x288 with 2 Axes>"
      ]
     },
     "metadata": {
      "needs_background": "light"
     },
     "output_type": "display_data"
    },
    {
     "name": "stdout",
     "output_type": "stream",
     "text": [
      "firstflrsf\n"
     ]
    },
    {
     "data": {
      "image/png": "[encoded data removed]",
      "text/plain": [
       "<Figure size 432x288 with 2 Axes>"
      ]
     },
     "metadata": {
      "needs_background": "light"
     },
     "output_type": "display_data"
    },
    {
     "name": "stdout",
     "output_type": "stream",
     "text": [
      "garagecars\n"
     ]
    },
    {
     "data": {
      "image/png": "[encoded data removed]",
      "text/plain": [
       "<Figure size 432x288 with 2 Axes>"
      ]
     },
     "metadata": {
      "needs_background": "light"
     },
     "output_type": "display_data"
    },
    {
     "name": "stdout",
     "output_type": "stream",
     "text": [
      "saleprice\n"
     ]
    },
    {
     "data": {
      "image/png": "[encoded data removed]",
      "text/plain": [
       "<Figure size 432x288 with 2 Axes>"
      ]
     },
     "metadata": {
      "needs_background": "light"
     },
     "output_type": "display_data"
    }
   ],
   "source": [
    "columns = ['lotarea', 'overallqual', 'grlivarea', 'totalbsmtsf', 'firstflrsf', 'garagecars', 'saleprice']\n",
    "for col in columns:\n",
    "    print(col)\n",
    "    plt.subplot(1,2,1)\n",
    "    plt.boxplot(house_df[col])\n",
    "    plt.subplot(1,2,2)\n",
    "    plt.hist(house_df[col])\n",
    "    plt.show()"
   ]
  },
  {
   "cell_type": "code",
   "execution_count": 82,
   "metadata": {},
   "outputs": [
    {
     "name": "stdout",
     "output_type": "stream",
     "text": [
      "dropping value at 53 because of lotarea\n",
      "dropping value at 250 because of lotarea\n",
      "dropping value at 314 because of lotarea\n",
      "dropping value at 336 because of lotarea\n",
      "dropping value at 385 because of lotarea\n",
      "dropping value at 452 because of lotarea\n",
      "dropping value at 458 because of lotarea\n",
      "dropping value at 661 because of lotarea\n",
      "dropping value at 706 because of lotarea\n",
      "dropping value at 769 because of lotarea\n",
      "dropping value at 848 because of lotarea\n",
      "dropping value at 1298 because of lotarea\n",
      "dropping value at 1396 because of lotarea\n",
      "dropping value at 376 because of overallqual\n",
      "dropping value at 533 because of overallqual\n",
      "dropping value at 119 because of grlivarea\n",
      "dropping value at 186 because of grlivarea\n",
      "dropping value at 198 because of grlivarea\n",
      "dropping value at 305 because of grlivarea\n",
      "dropping value at 497 because of grlivarea\n",
      "dropping value at 523 because of grlivarea\n",
      "dropping value at 608 because of grlivarea\n",
      "dropping value at 635 because of grlivarea\n",
      "dropping value at 691 because of grlivarea\n",
      "dropping value at 798 because of grlivarea\n",
      "dropping value at 1031 because of grlivarea\n",
      "dropping value at 1169 because of grlivarea\n",
      "dropping value at 1173 because of grlivarea\n",
      "dropping value at 1182 because of grlivarea\n",
      "dropping value at 1268 because of grlivarea\n",
      "dropping value at 1353 because of grlivarea\n",
      "dropping value at 225 because of totalbsmtsf\n",
      "dropping value at 333 because of totalbsmtsf\n",
      "dropping value at 441 because of totalbsmtsf\n",
      "dropping value at 898 because of totalbsmtsf\n",
      "dropping value at 1044 because of totalbsmtsf\n",
      "dropping value at 1373 because of totalbsmtsf\n",
      "dropping value at 66 because of firstflrsf\n",
      "dropping value at 70 because of firstflrsf\n",
      "dropping value at 114 because of firstflrsf\n",
      "dropping value at 179 because of firstflrsf\n",
      "dropping value at 529 because of firstflrsf\n",
      "dropping value at 888 because of firstflrsf\n",
      "dropping value at 1024 because of firstflrsf\n",
      "dropping value at 421 because of garagecars\n",
      "dropping value at 747 because of garagecars\n",
      "dropping value at 1190 because of garagecars\n",
      "dropping value at 1340 because of garagecars\n",
      "dropping value at 1350 because of garagecars\n",
      "dropping value at 58 because of saleprice\n",
      "dropping value at 162 because of saleprice\n",
      "dropping value at 232 because of saleprice\n",
      "dropping value at 279 because of saleprice\n",
      "dropping value at 350 because of saleprice\n",
      "dropping value at 379 because of saleprice\n",
      "dropping value at 390 because of saleprice\n",
      "dropping value at 474 because of saleprice\n",
      "dropping value at 516 because of saleprice\n",
      "dropping value at 527 because of saleprice\n",
      "dropping value at 591 because of saleprice\n",
      "dropping value at 664 because of saleprice\n",
      "dropping value at 688 because of saleprice\n",
      "dropping value at 774 because of saleprice\n",
      "dropping value at 803 because of saleprice\n",
      "dropping value at 987 because of saleprice\n",
      "dropping value at 1046 because of saleprice\n",
      "dropping value at 1142 because of saleprice\n",
      "dropping value at 1181 because of saleprice\n",
      "dropping value at 1244 because of saleprice\n"
     ]
    }
   ],
   "source": [
    "for col in columns:\n",
    "    std = np.std(house_df[col])\n",
    "    mean = np.mean(house_df[col])\n",
    "    for i in range(len(house_df[col])):\n",
    "        if i in house_df.index:\n",
    "            if(house_df[col][i] >= mean + 3*std):\n",
    "                house_df = house_df.loc[house_df.index != i]\n",
    "                print('dropping value at {} because of {}'.format(i, col))\n",
    "            elif(house_df[col][i] <= mean - 3*std):\n",
    "                house_df = house_df.loc[house_df.index != i]\n",
    "                print('dropping value at {} because of {}'.format(i, col))"
   ]
  },
  {
   "cell_type": "code",
   "execution_count": 83,
   "metadata": {},
   "outputs": [
    {
     "name": "stdout",
     "output_type": "stream",
     "text": [
      "lotarea\n"
     ]
    },
    {
     "data": {
      "image/png": "[encoded data removed]",
      "text/plain": [
       "<Figure size 432x288 with 1 Axes>"
      ]
     },
     "metadata": {
      "needs_background": "light"
     },
     "output_type": "display_data"
    },
    {
     "name": "stdout",
     "output_type": "stream",
     "text": [
      "overallqual\n"
     ]
    },
    {
     "data": {
      "image/png": "[encoded data removed]",
      "text/plain": [
       "<Figure size 432x288 with 1 Axes>"
      ]
     },
     "metadata": {
      "needs_background": "light"
     },
     "output_type": "display_data"
    },
    {
     "name": "stdout",
     "output_type": "stream",
     "text": [
      "grlivarea\n"
     ]
    },
    {
     "data": {
      "image/png": "[encoded data removed]",
      "text/plain": [
       "<Figure size 432x288 with 1 Axes>"
      ]
     },
     "metadata": {
      "needs_background": "light"
     },
     "output_type": "display_data"
    },
    {
     "name": "stdout",
     "output_type": "stream",
     "text": [
      "totalbsmtsf\n"
     ]
    },
    {
     "data": {
      "image/png": "[encoded data removed]",
      "text/plain": [
       "<Figure size 432x288 with 1 Axes>"
      ]
     },
     "metadata": {
      "needs_background": "light"
     },
     "output_type": "display_data"
    },
    {
     "name": "stdout",
     "output_type": "stream",
     "text": [
      "firstflrsf\n"
     ]
    },
    {
     "data": {
      "image/png": "[encoded data removed]",
      "text/plain": [
       "<Figure size 432x288 with 1 Axes>"
      ]
     },
     "metadata": {
      "needs_background": "light"
     },
     "output_type": "display_data"
    },
    {
     "name": "stdout",
     "output_type": "stream",
     "text": [
      "garagecars\n"
     ]
    },
    {
     "data": {
      "image/png": "[encoded data removed]",
      "text/plain": [
       "<Figure size 432x288 with 1 Axes>"
      ]
     },
     "metadata": {
      "needs_background": "light"
     },
     "output_type": "display_data"
    },
    {
     "name": "stdout",
     "output_type": "stream",
     "text": [
      "saleprice\n"
     ]
    },
    {
     "data": {
      "image/png": "[encoded data removed]",
      "text/plain": [
       "<Figure size 432x288 with 1 Axes>"
      ]
     },
     "metadata": {
      "needs_background": "light"
     },
     "output_type": "display_data"
    }
   ],
   "source": [
    "columns = ['lotarea', 'overallqual', 'grlivarea', 'totalbsmtsf', 'firstflrsf', 'garagecars', 'saleprice']\n",
    "for col in columns:\n",
    "    print(col)\n",
    "    plt.boxplot(house_df[col])\n",
    "    plt.show()"
   ]
  },
  {
   "cell_type": "code",
   "execution_count": 84,
   "metadata": {},
   "outputs": [],
   "source": [
    "house_df = pd.concat([house_df, dummies['salecondition_Partial']], axis = 1)"
   ]
  },
  {
   "cell_type": "code",
   "execution_count": 85,
   "metadata": {},
   "outputs": [],
   "source": [
    "for col in ['saleprice', 'lotarea', 'overallqual', 'grlivarea', 'totalbsmtsf', 'firstflrsf', 'garagecars', 'salecondition_Partial']:\n",
    "    house_df = house_df.loc[house_df[col].notnull()]\n",
    "Y = house_df['saleprice']\n",
    "X = house_df[['lotarea', 'overallqual', 'grlivarea', 'totalbsmtsf', 'firstflrsf', 'garagecars', 'salecondition_Partial']]\n",
    "X_train, X_test, y_train, y_test = train_test_split(X, Y, test_size = 0.2)"
   ]
  },
  {
   "cell_type": "code",
   "execution_count": 86,
   "metadata": {},
   "outputs": [
    {
     "name": "stdout",
     "output_type": "stream",
     "text": [
      "R-squared of the model in the training set is: 0.8264557082014587\n",
      "-----Test set statistics-----\n",
      "R-squared of the model in the test set is: 0.7827943694423598\n",
      "Mean absolute error of the prediction is: 20608.49473424816\n",
      "Mean squared error of the prediction is: 756059727.0689415\n",
      "Root mean squared error of the prediction is: 27496.540274531657\n",
      "Mean absolute percentage error of the prediction is: 14.131131713062429\n"
     ]
    }
   ],
   "source": [
    "lrm = linear_model.LinearRegression()\n",
    "lrm.fit(X_train, y_train)\n",
    "\n",
    "y_preds_train = lrm.predict(X_train)\n",
    "y_preds_test = lrm.predict(X_test)\n",
    "\n",
    "print(\"R-squared of the model in the training set is: {}\".format(lrm.score(X_train, y_train)))\n",
    "print(\"-----Test set statistics-----\")\n",
    "print(\"R-squared of the model in the test set is: {}\".format(lrm.score(X_test, y_test)))\n",
    "print(\"Mean absolute error of the prediction is: {}\".format(mean_absolute_error(y_test, y_preds_test)))\n",
    "print(\"Mean squared error of the prediction is: {}\".format(mse(y_test, y_preds_test)))\n",
    "print(\"Root mean squared error of the prediction is: {}\".format(rmse(y_test, y_preds_test)))\n",
    "print(\"Mean absolute percentage error of the prediction is: {}\".format(np.mean(np.abs((y_test - y_preds_test) / y_test)) * 100))"
   ]
  },
  {
   "cell_type": "code",
   "execution_count": 87,
   "metadata": {},
   "outputs": [
    {
     "name": "stdout",
     "output_type": "stream",
     "text": [
      "[ 77382.71448805 238402.73078545 216546.53812396 ... 276552.51361643\n",
      " 132493.06618792 163342.07222064]\n",
      "R-squared of the model on the training set is: 0.8229895038359734\n",
      "-----Test set statistics-----\n",
      "R-squared of the model on the test set is: 0.7928650865771084\n",
      "Mean absolute error of the prediction is: 20118.859284253806\n",
      "Mean squared error of the prediction is: 721005094.1446539\n",
      "Root mean squared error of the prediction is: 26851.53802195796\n",
      "Mean absolute percentage error of the prediction is: 13.84105152972244\n"
     ]
    }
   ],
   "source": [
    "from sklearn.linear_model import Ridge\n",
    "\n",
    "ridgeregr = Ridge(alpha=10**2) \n",
    "ridgeregr.fit(X_train, y_train)\n",
    "\n",
    "y_preds_train = ridgeregr.predict(X_train)\n",
    "print(y_preds_train)\n",
    "y_preds_test = ridgeregr.predict(X_test)\n",
    "\n",
    "print(\"R-squared of the model on the training set is: {}\".format(ridgeregr.score(X_train, y_train)))\n",
    "print(\"-----Test set statistics-----\")\n",
    "print(\"R-squared of the model on the test set is: {}\".format(ridgeregr.score(X_test, y_test)))\n",
    "print(\"Mean absolute error of the prediction is: {}\".format(mean_absolute_error(y_test, y_preds_test)))\n",
    "print(\"Mean squared error of the prediction is: {}\".format(mse(y_test, y_preds_test)))\n",
    "print(\"Root mean squared error of the prediction is: {}\".format(rmse(y_test, y_preds_test)))\n",
    "print(\"Mean absolute percentage error of the prediction is: {}\".format(np.mean(np.abs((y_test - y_preds_test) / y_test)) * 100))"
   ]
  },
  {
   "cell_type": "code",
   "execution_count": 88,
   "metadata": {},
   "outputs": [
    {
     "name": "stdout",
     "output_type": "stream",
     "text": [
      "[1.64128942e+00 2.10450528e+04 4.25566003e+01 3.41472824e+01\n",
      " 3.35527139e+00 1.24210221e+04 7.25510838e+03]\n",
      "R-squared of the model on the training set is: 0.822448269565912\n",
      "-----Test set statistics-----\n",
      "R-squared of the model on the test set is: 0.793707417365243\n",
      "Mean absolute error of the prediction is: 20127.083905716197\n",
      "Mean squared error of the prediction is: 718073068.9289916\n",
      "Root mean squared error of the prediction is: 26796.885433366908\n",
      "Mean absolute percentage error of the prediction is: 13.888016428740094\n"
     ]
    }
   ],
   "source": [
    "from sklearn.linear_model import Lasso\n",
    "\n",
    "lassoregr = Lasso(alpha=10**3) \n",
    "lassoregr.fit(X_train, y_train)\n",
    "print(lassoregr.coef_)\n",
    "y_preds_train = lassoregr.predict(X_train)\n",
    "y_preds_test = lassoregr.predict(X_test)\n",
    "\n",
    "print(\"R-squared of the model on the training set is: {}\".format(lassoregr.score(X_train, y_train)))\n",
    "print(\"-----Test set statistics-----\")\n",
    "print(\"R-squared of the model on the test set is: {}\".format(lassoregr.score(X_test, y_test)))\n",
    "print(\"Mean absolute error of the prediction is: {}\".format(mean_absolute_error(y_test, y_preds_test)))\n",
    "print(\"Mean squared error of the prediction is: {}\".format(mse(y_test, y_preds_test)))\n",
    "print(\"Root mean squared error of the prediction is: {}\".format(rmse(y_test, y_preds_test)))\n",
    "print(\"Mean absolute percentage error of the prediction is: {}\".format(np.mean(np.abs((y_test - y_preds_test) / y_test)) * 100))\n"
   ]
  },
  {
   "cell_type": "code",
   "execution_count": 89,
   "metadata": {},
   "outputs": [
    {
     "name": "stdout",
     "output_type": "stream",
     "text": [
      "R-squared of the model on the training set is: 0.7032308055733032\n",
      "-----Test set statistics-----\n",
      "R-squared of the model on the test set is: 0.7024989365500132\n",
      "Mean absolute error of the prediction is: 23435.67277689736\n",
      "Mean squared error of the prediction is: 1035555902.7509986\n",
      "Root mean squared error of the prediction is: 32180.054424301376\n",
      "Mean absolute percentage error of the prediction is: 15.416649028496836\n"
     ]
    },
    {
     "data": {
      "text/plain": [
       "array([108064.37368711, 201236.27736932, 214132.5848325 , ...,\n",
       "       245227.06834763, 111356.64740214, 173520.46977896])"
      ]
     },
     "execution_count": 89,
     "metadata": {},
     "output_type": "execute_result"
    }
   ],
   "source": [
    "from sklearn.linear_model import ElasticNet\n",
    "\n",
    "elasticregr = ElasticNet(alpha=10**1, l1_ratio=0.5) \n",
    "elasticregr.fit(X_train, y_train)\n",
    "y_preds_train = elasticregr.predict(X_train)\n",
    "y_preds_test = elasticregr.predict(X_test)\n",
    "\n",
    "print(\"R-squared of the model on the training set is: {}\".format(elasticregr.score(X_train, y_train)))\n",
    "print(\"-----Test set statistics-----\")\n",
    "print(\"R-squared of the model on the test set is: {}\".format(elasticregr.score(X_test, y_test)))\n",
    "print(\"Mean absolute error of the prediction is: {}\".format(mean_absolute_error(y_test, y_preds_test)))\n",
    "print(\"Mean squared error of the prediction is: {}\".format(mse(y_test, y_preds_test)))\n",
    "print(\"Root mean squared error of the prediction is: {}\".format(rmse(y_test, y_preds_test)))\n",
    "print(\"Mean absolute percentage error of the prediction is: {}\".format(np.mean(np.abs((y_test - y_preds_test) / y_test)) * 100))\n",
    "y_preds_train"
   ]
  },
  {
   "cell_type": "code",
   "execution_count": 92,
   "metadata": {},
   "outputs": [
    {
     "data": {
      "text/plain": [
       "array([2008., 2007., 2006., 2009., 2010.])"
      ]
     },
     "execution_count": 92,
     "metadata": {},
     "output_type": "execute_result"
    }
   ],
   "source": [
    "house_df['yrsold'].unique()"
   ]
  },
  {
   "cell_type": "code",
   "execution_count": 98,
   "metadata": {},
   "outputs": [],
   "source": [
    "interest_rates = [6.41, 6.34, 6.03, 5.04, 4.69]\n",
    "inflation_adjusted = [1, 1.03, 1.07, 1.06, 1.08]\n",
    "i_r = []\n",
    "i_a = []\n",
    "for i in house_df.index:\n",
    "    if(house_df['yrsold'][i] == 2006):\n",
    "        index = 0\n",
    "    elif(house_df['yrsold'][i] == 2007):\n",
    "        index = 1\n",
    "    elif(house_df['yrsold'][i] == 2008):\n",
    "        index = 2\n",
    "    elif(house_df['yrsold'][i] == 2009):\n",
    "        index = 3\n",
    "    else:\n",
    "        index = 4\n",
    "    i_r.append(interest_rates[index])\n",
    "    i_a.append(inflation_adjusted[index])\n",
    "house_df['interest rate'] = i_r\n",
    "house_df['inflation adjusted'] = i_a"
   ]
  },
  {
   "cell_type": "code",
   "execution_count": 102,
   "metadata": {},
   "outputs": [
    {
     "data": {
      "text/html": [
       "<div>\n",
       "<style scoped>\n",
       "    .dataframe tbody tr th:only-of-type {\n",
       "        vertical-align: middle;\n",
       "    }\n",
       "\n",
       "    .dataframe tbody tr th {\n",
       "        vertical-align: top;\n",
       "    }\n",
       "\n",
       "    .dataframe thead th {\n",
       "        text-align: right;\n",
       "    }\n",
       "</style>\n",
       "<table border=\"1\" class=\"dataframe\">\n",
       "  <thead>\n",
       "    <tr style=\"text-align: right;\">\n",
       "      <th></th>\n",
       "      <th>saleprice</th>\n",
       "      <th>interest rate</th>\n",
       "      <th>inflation adjusted</th>\n",
       "    </tr>\n",
       "  </thead>\n",
       "  <tbody>\n",
       "    <tr>\n",
       "      <th>saleprice</th>\n",
       "      <td>1.000000</td>\n",
       "      <td>0.038069</td>\n",
       "      <td>-0.032461</td>\n",
       "    </tr>\n",
       "    <tr>\n",
       "      <th>interest rate</th>\n",
       "      <td>0.038069</td>\n",
       "      <td>1.000000</td>\n",
       "      <td>-0.731184</td>\n",
       "    </tr>\n",
       "    <tr>\n",
       "      <th>inflation adjusted</th>\n",
       "      <td>-0.032461</td>\n",
       "      <td>-0.731184</td>\n",
       "      <td>1.000000</td>\n",
       "    </tr>\n",
       "  </tbody>\n",
       "</table>\n",
       "</div>"
      ],
      "text/plain": [
       "                    saleprice  interest rate  inflation adjusted\n",
       "saleprice            1.000000       0.038069           -0.032461\n",
       "interest rate        0.038069       1.000000           -0.731184\n",
       "inflation adjusted  -0.032461      -0.731184            1.000000"
      ]
     },
     "execution_count": 102,
     "metadata": {},
     "output_type": "execute_result"
    }
   ],
   "source": [
    "house_df[['saleprice', 'interest rate', 'inflation adjusted']].corr()"
   ]
  },
  {
   "cell_type": "markdown",
   "metadata": {},
   "source": [
    "The best model type is Ridge, and the correlations between saleprice and the interest rates and inflation adjusted value of the dollar at the time of sale "
   ]
  }
 ],
 "metadata": {
  "kernelspec": {
   "display_name": "Python 3",
   "language": "python",
   "name": "python3"
  },
  "language_info": {
   "codemirror_mode": {
    "name": "ipython",
    "version": 3
   },
   "file_extension": ".py",
   "mimetype": "text/x-python",
   "name": "python",
   "nbconvert_exporter": "python",
   "pygments_lexer": "ipython3",
   "version": "3.7.1"
  }
 },
 "nbformat": 4,
 "nbformat_minor": 2
}
