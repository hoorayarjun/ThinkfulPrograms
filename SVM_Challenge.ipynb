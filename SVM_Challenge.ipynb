{
 "cells": [
  {
   "cell_type": "code",
   "execution_count": 1,
   "metadata": {},
   "outputs": [],
   "source": [
    "import pandas as pd\n",
    "import matplotlib.pyplot as plt\n",
    "\n",
    "cook_df = pd.read_csv('epi_r.csv')"
   ]
  },
  {
   "cell_type": "code",
   "execution_count": 2,
   "metadata": {},
   "outputs": [
    {
     "name": "stderr",
     "output_type": "stream",
     "text": [
      "/Library/Frameworks/Python.framework/Versions/3.7/lib/python3.7/site-packages/numpy/core/fromnumeric.py:3367: RuntimeWarning: Degrees of freedom <= 0 for slice\n",
      "  **kwargs)\n",
      "/Library/Frameworks/Python.framework/Versions/3.7/lib/python3.7/site-packages/numpy/core/_methods.py:132: RuntimeWarning: invalid value encountered in double_scalars\n",
      "  ret = ret.dtype.type(ret / rcount)\n"
     ]
    },
    {
     "data": {
      "text/plain": [
       "[('bon appétit', 9355),\n",
       " ('peanut free', 8390),\n",
       " ('soy free', 8088),\n",
       " ('tree nut free', 7044),\n",
       " ('vegetarian', 6846),\n",
       " ('gourmet', 6648),\n",
       " ('kosher', 6175),\n",
       " ('pescatarian', 6042),\n",
       " ('quick & easy', 5372),\n",
       " ('wheat/gluten-free', 4906),\n",
       " ('bake', 4413),\n",
       " ('no sugar added', 3132),\n",
       " ('winter', 3099),\n",
       " ('fall', 3015),\n",
       " ('dinner', 2705),\n",
       " ('sugar conscious', 2466),\n",
       " ('onion', 2238),\n",
       " ('tomato', 2140),\n",
       " ('vegetable', 2087),\n",
       " ('sauté', 2044),\n",
       " ('milk/cream', 1995),\n",
       " ('fruit', 1958),\n",
       " ('vegan', 1851),\n",
       " ('kid-friendly', 1791),\n",
       " ('herb', 1681),\n",
       " ('garlic', 1643),\n",
       " ('dairy', 1496),\n",
       " ('thanksgiving', 1458),\n",
       " ('appetizer', 1372),\n",
       " ('cheese', 1355),\n",
       " ('chicken', 1344),\n",
       " ('roast', 1320),\n",
       " ('soup/stew', 1164),\n",
       " ('cocktail party', 1154),\n",
       " ('potato', 1128),\n",
       " ('grill/barbecue', 1104),\n",
       " ('drink', 1087),\n",
       " ('sauce', 1065),\n",
       " ('low cal', 1049),\n",
       " ('christmas', 1039),\n",
       " ('high fiber', 1013),\n",
       " ('food processor', 973),\n",
       " ('pasta', 968),\n",
       " ('backyard bbq', 938),\n",
       " ('fish', 936),\n",
       " ('pork', 928),\n",
       " ('leafy green', 903),\n",
       " ('party', 892),\n",
       " ('citrus', 863),\n",
       " ('mushroom', 843),\n",
       " ('orange', 837),\n",
       " ('alcoholic', 835),\n",
       " ('beef', 811),\n",
       " ('bell pepper', 767),\n",
       " ('cake', 720),\n",
       " ('parmesan', 644),\n",
       " ('mixer', 630),\n",
       " ('pepper', 612),\n",
       " ('marinate', 601),\n",
       " ('mustard', 600),\n",
       " ('bacon', 587),\n",
       " ('grill', 564),\n",
       " ('shrimp', 505),\n",
       " ('broil', 489),\n",
       " ('fruit juice', 488),\n",
       " ('white wine', 487),\n",
       " ('potluck', 485),\n",
       " ('house & garden', 459),\n",
       " ('freeze/chill', 417),\n",
       " ('sour cream', 404),\n",
       " ('sausage', 384),\n",
       " ('cocktail', 380),\n",
       " ('cream cheese', 375),\n",
       " ('rosemary', 371),\n",
       " ('low carb', 363),\n",
       " ('lamb', 359),\n",
       " ('pecan', 331),\n",
       " ('rum', 331),\n",
       " ('braise', 330),\n",
       " ('shower', 327),\n",
       " ('liqueur', 317),\n",
       " ('goat cheese', 307),\n",
       " (\"father's day\", 295),\n",
       " ('sweet potato/yam', 286),\n",
       " ('meat', 285),\n",
       " ('arugula', 278),\n",
       " ('red wine', 271),\n",
       " ('brandy', 270),\n",
       " ('pineapple', 264),\n",
       " ('steak', 243),\n",
       " ('chile pepper', 237),\n",
       " ('easter', 234),\n",
       " ('gin', 226),\n",
       " ('spirit', 219),\n",
       " ('non-alcoholic', 218),\n",
       " ('radish', 208),\n",
       " ('butter', 195),\n",
       " ('sage', 182),\n",
       " ('banana', 177),\n",
       " ('scallop', 170),\n",
       " ('fig', 154),\n",
       " ('lemon juice', 154),\n",
       " ('stuffing/dressing', 138),\n",
       " ('lime juice', 133),\n",
       " ('bitters', 127),\n",
       " ('harpercollins', 121),\n",
       " ('pork tenderloin', 120),\n",
       " ('green onion/scallion', 116),\n",
       " ('tea', 110),\n",
       " ('advance prep required', 109),\n",
       " ('tree nut', 107),\n",
       " ('champagne', 106),\n",
       " ('condiment', 96),\n",
       " ('fortified wine', 76),\n",
       " ('punch', 73),\n",
       " ('beef tenderloin', 72),\n",
       " ('whiskey', 57),\n",
       " ('pernod', 54),\n",
       " ('sparkling wine', 54),\n",
       " ('lamb chop', 45),\n",
       " ('cardamom', 44),\n",
       " ('smoothie', 42),\n",
       " ('weelicious', 33),\n",
       " ('peanut butter', 32),\n",
       " ('kirsch', 31),\n",
       " ('snack', 28),\n",
       " ('3-ingredient recipes', 27),\n",
       " ('slow cooker', 25),\n",
       " ('scotch', 22),\n",
       " ('créme de cacao', 21),\n",
       " ('pie', 21),\n",
       " ('dip', 20),\n",
       " ('campari', 19),\n",
       " ('rye', 19),\n",
       " ('chartreuse', 18),\n",
       " (\"hors d'oeuvre\", 17),\n",
       " ('pickles', 16),\n",
       " ('chile', 13),\n",
       " ('aperitif', 12),\n",
       " ('ice cream', 12),\n",
       " ('drinks', 11),\n",
       " ('vermouth', 11),\n",
       " ('bon app��tit', 10),\n",
       " ('friendsgiving', 9),\n",
       " ('leftovers', 7),\n",
       " ('pancake', 5),\n",
       " ('flat bread', 4),\n",
       " ('sardine', 4)]"
      ]
     },
     "execution_count": 2,
     "metadata": {},
     "output_type": "execute_result"
    }
   ],
   "source": [
    "from scipy import stats\n",
    "lib = {}\n",
    "for col in cook_df.columns[6:]:\n",
    "    if(stats.ttest_ind(cook_df['rating'],cook_df.loc[cook_df[col] == 1]['rating']).pvalue < .001):\n",
    "        lib.update({col: len(cook_df.loc[cook_df[col] == 1])})\n",
    "lib_sorted = [(k, lib[k]) for k in sorted(lib, key=lib.get, reverse=True)]\n",
    "lib_sorted"
   ]
  },
  {
   "cell_type": "code",
   "execution_count": 3,
   "metadata": {},
   "outputs": [
    {
     "data": {
      "text/plain": [
       "['calories',\n",
       " 'protein',\n",
       " 'fat',\n",
       " 'sodium',\n",
       " 'bon appétit',\n",
       " 'peanut free',\n",
       " 'soy free',\n",
       " 'tree nut free',\n",
       " 'vegetarian',\n",
       " 'gourmet',\n",
       " 'kosher',\n",
       " 'pescatarian',\n",
       " 'quick & easy',\n",
       " 'wheat/gluten-free',\n",
       " 'bake',\n",
       " 'no sugar added',\n",
       " 'winter',\n",
       " 'fall',\n",
       " 'dinner',\n",
       " 'sugar conscious',\n",
       " 'onion',\n",
       " 'tomato',\n",
       " 'vegetable',\n",
       " 'sauté',\n",
       " 'milk/cream',\n",
       " 'fruit',\n",
       " 'vegan',\n",
       " 'kid-friendly',\n",
       " 'herb',\n",
       " 'garlic']"
      ]
     },
     "execution_count": 3,
     "metadata": {},
     "output_type": "execute_result"
    }
   ],
   "source": [
    "columns = ['calories', 'protein', 'fat', 'sodium']\n",
    "for i in range(26):\n",
    "    columns.append(lib_sorted[i][0])\n",
    "columns"
   ]
  },
  {
   "cell_type": "code",
   "execution_count": 4,
   "metadata": {},
   "outputs": [
    {
     "name": "stdout",
     "output_type": "stream",
     "text": [
      "title                     0.000000\n",
      "rating                    0.000000\n",
      "calories                 20.531618\n",
      "protein                  20.756034\n",
      "fat                      20.860762\n",
      "sodium                   20.541592\n",
      "#cakeweek                 0.000000\n",
      "#wasteless                0.000000\n",
      "22-minute meals           0.000000\n",
      "3-ingredient recipes      0.000000\n",
      "30 days of groceries      0.000000\n",
      "advance prep required     0.000000\n",
      "alabama                   0.000000\n",
      "alaska                    0.000000\n",
      "alcoholic                 0.000000\n",
      "almond                    0.000000\n",
      "amaretto                  0.000000\n",
      "anchovy                   0.000000\n",
      "anise                     0.000000\n",
      "anniversary               0.000000\n",
      "anthony bourdain          0.000000\n",
      "aperitif                  0.000000\n",
      "appetizer                 0.000000\n",
      "apple                     0.000000\n",
      "apple juice               0.000000\n",
      "apricot                   0.000000\n",
      "arizona                   0.000000\n",
      "artichoke                 0.000000\n",
      "arugula                   0.000000\n",
      "asian pear                0.000000\n",
      "                           ...    \n",
      "walnut                    0.000000\n",
      "wasabi                    0.000000\n",
      "washington                0.000000\n",
      "washington, d.c.          0.000000\n",
      "watercress                0.000000\n",
      "watermelon                0.000000\n",
      "wedding                   0.000000\n",
      "weelicious                0.000000\n",
      "west virginia             0.000000\n",
      "westwood                  0.000000\n",
      "wheat/gluten-free         0.000000\n",
      "whiskey                   0.000000\n",
      "white wine                0.000000\n",
      "whole wheat               0.000000\n",
      "wild rice                 0.000000\n",
      "windsor                   0.000000\n",
      "wine                      0.000000\n",
      "winter                    0.000000\n",
      "wisconsin                 0.000000\n",
      "wok                       0.000000\n",
      "yellow squash             0.000000\n",
      "yogurt                    0.000000\n",
      "yonkers                   0.000000\n",
      "yuca                      0.000000\n",
      "zucchini                  0.000000\n",
      "cookbooks                 0.000000\n",
      "leftovers                 0.000000\n",
      "snack                     0.000000\n",
      "snack week                0.000000\n",
      "turkey                    0.000000\n",
      "Length: 680, dtype: float64\n",
      "title                    0.0\n",
      "rating                   0.0\n",
      "calories                 0.0\n",
      "protein                  0.0\n",
      "fat                      0.0\n",
      "sodium                   0.0\n",
      "#cakeweek                0.0\n",
      "#wasteless               0.0\n",
      "22-minute meals          0.0\n",
      "3-ingredient recipes     0.0\n",
      "30 days of groceries     0.0\n",
      "advance prep required    0.0\n",
      "alabama                  0.0\n",
      "alaska                   0.0\n",
      "alcoholic                0.0\n",
      "almond                   0.0\n",
      "amaretto                 0.0\n",
      "anchovy                  0.0\n",
      "anise                    0.0\n",
      "anniversary              0.0\n",
      "anthony bourdain         0.0\n",
      "aperitif                 0.0\n",
      "appetizer                0.0\n",
      "apple                    0.0\n",
      "apple juice              0.0\n",
      "apricot                  0.0\n",
      "arizona                  0.0\n",
      "artichoke                0.0\n",
      "arugula                  0.0\n",
      "asian pear               0.0\n",
      "                        ... \n",
      "walnut                   0.0\n",
      "wasabi                   0.0\n",
      "washington               0.0\n",
      "washington, d.c.         0.0\n",
      "watercress               0.0\n",
      "watermelon               0.0\n",
      "wedding                  0.0\n",
      "weelicious               0.0\n",
      "west virginia            0.0\n",
      "westwood                 0.0\n",
      "wheat/gluten-free        0.0\n",
      "whiskey                  0.0\n",
      "white wine               0.0\n",
      "whole wheat              0.0\n",
      "wild rice                0.0\n",
      "windsor                  0.0\n",
      "wine                     0.0\n",
      "winter                   0.0\n",
      "wisconsin                0.0\n",
      "wok                      0.0\n",
      "yellow squash            0.0\n",
      "yogurt                   0.0\n",
      "yonkers                  0.0\n",
      "yuca                     0.0\n",
      "zucchini                 0.0\n",
      "cookbooks                0.0\n",
      "leftovers                0.0\n",
      "snack                    0.0\n",
      "snack week               0.0\n",
      "turkey                   0.0\n",
      "Length: 680, dtype: float64\n"
     ]
    }
   ],
   "source": [
    "print(100*cook_df.isnull().sum()/cook_df.isnull().count())\n",
    "for col in columns:\n",
    "    cook_df = cook_df.loc[cook_df[col].notnull()]\n",
    "print(100*cook_df.isnull().sum()/cook_df.isnull().count())"
   ]
  },
  {
   "cell_type": "code",
   "execution_count": 5,
   "metadata": {},
   "outputs": [],
   "source": [
    "from sklearn.svm import SVC\n",
    "from sklearn.model_selection import train_test_split\n",
    "svr = SVC()\n",
    "X = cook_df[columns]\n",
    "Y = []\n",
    "for val in cook_df['rating']:\n",
    "    if(val > 2.5):\n",
    "        Y.append(1)\n",
    "    else:\n",
    "        Y.append(0)\n",
    "X_train, X_test, y_train, y_test = train_test_split(X, Y, test_size = 0.2)"
   ]
  },
  {
   "cell_type": "code",
   "execution_count": 6,
   "metadata": {},
   "outputs": [
    {
     "name": "stderr",
     "output_type": "stream",
     "text": [
      "/Library/Frameworks/Python.framework/Versions/3.7/lib/python3.7/site-packages/sklearn/svm/base.py:193: FutureWarning: The default value of gamma will change from 'auto' to 'scale' in version 0.22 to account better for unscaled features. Set gamma explicitly to 'auto' or 'scale' to avoid this warning.\n",
      "  \"avoid this warning.\", FutureWarning)\n"
     ]
    },
    {
     "data": {
      "text/plain": [
       "SVC(C=1.0, cache_size=200, class_weight=None, coef0=0.0,\n",
       "    decision_function_shape='ovr', degree=3, gamma='auto_deprecated',\n",
       "    kernel='rbf', max_iter=-1, probability=False, random_state=None,\n",
       "    shrinking=True, tol=0.001, verbose=False)"
      ]
     },
     "execution_count": 6,
     "metadata": {},
     "output_type": "execute_result"
    }
   ],
   "source": [
    "svr.fit(X_train, y_train)"
   ]
  },
  {
   "cell_type": "code",
   "execution_count": 7,
   "metadata": {
    "scrolled": true
   },
   "outputs": [
    {
     "data": {
      "image/png": "[encoded data removed]",
      "text/plain": [
       "<Figure size 432x288 with 1 Axes>"
      ]
     },
     "metadata": {
      "needs_background": "light"
     },
     "output_type": "display_data"
    },
    {
     "data": {
      "image/png": "[encoded data removed]",
      "text/plain": [
       "<Figure size 432x288 with 1 Axes>"
      ]
     },
     "metadata": {
      "needs_background": "light"
     },
     "output_type": "display_data"
    }
   ],
   "source": [
    "import matplotlib.pyplot as plt\n",
    "\n",
    "plt.scatter(y_train, svr.predict(X_train))\n",
    "plt.show()\n",
    "plt.scatter(y_test, svr.predict(X_test))\n",
    "plt.show()\n"
   ]
  },
  {
   "cell_type": "code",
   "execution_count": 8,
   "metadata": {},
   "outputs": [
    {
     "name": "stdout",
     "output_type": "stream",
     "text": [
      "0.9609959814041447\n",
      "0.8909549322407816\n"
     ]
    }
   ],
   "source": [
    "print(svr.score(X_train, y_train))\n",
    "print(svr.score(X_test, y_test))"
   ]
  },
  {
   "cell_type": "code",
   "execution_count": null,
   "metadata": {},
   "outputs": [
    {
     "name": "stderr",
     "output_type": "stream",
     "text": [
      "/Library/Frameworks/Python.framework/Versions/3.7/lib/python3.7/site-packages/sklearn/svm/base.py:193: FutureWarning: The default value of gamma will change from 'auto' to 'scale' in version 0.22 to account better for unscaled features. Set gamma explicitly to 'auto' or 'scale' to avoid this warning.\n",
      "  \"avoid this warning.\", FutureWarning)\n",
      "/Library/Frameworks/Python.framework/Versions/3.7/lib/python3.7/site-packages/sklearn/svm/base.py:193: FutureWarning: The default value of gamma will change from 'auto' to 'scale' in version 0.22 to account better for unscaled features. Set gamma explicitly to 'auto' or 'scale' to avoid this warning.\n",
      "  \"avoid this warning.\", FutureWarning)\n"
     ]
    }
   ],
   "source": [
    "from sklearn.model_selection import cross_val_score\n",
    "cross_val_score(svr, X, Y, cv=5)"
   ]
  },
  {
   "cell_type": "code",
   "execution_count": null,
   "metadata": {},
   "outputs": [],
   "source": []
  }
 ],
 "metadata": {
  "kernelspec": {
   "display_name": "Python 3",
   "language": "python",
   "name": "python3"
  },
  "language_info": {
   "codemirror_mode": {
    "name": "ipython",
    "version": 3
   },
   "file_extension": ".py",
   "mimetype": "text/x-python",
   "name": "python",
   "nbconvert_exporter": "python",
   "pygments_lexer": "ipython3",
   "version": "3.7.1"
  }
 },
 "nbformat": 4,
 "nbformat_minor": 2
}
