{
 "cells": [
  {
   "cell_type": "code",
   "execution_count": 31,
   "metadata": {},
   "outputs": [
    {
     "data": {
      "text/plain": [
       "Index(['bookID', 'title', 'authors', 'average_rating', 'isbn', 'isbn13',\n",
       "       'language_code', '# num_pages', 'ratings_count', 'text_reviews_count'],\n",
       "      dtype='object')"
      ]
     },
     "execution_count": 31,
     "metadata": {},
     "output_type": "execute_result"
    }
   ],
   "source": [
    "import pandas as pd\n",
    "import matplotlib.pyplot as plt\n",
    "from sklearn import neighbors\n",
    "import numpy as np\n",
    "df = pd.read_csv(\"books.csv\")\n",
    "df.columns"
   ]
  },
  {
   "cell_type": "code",
   "execution_count": 37,
   "metadata": {},
   "outputs": [
    {
     "name": "stdout",
     "output_type": "stream",
     "text": [
      "-0.20225174986125882, 0.1008334952281248\n",
      "-0.217378033104149, 0.04902799631607574\n"
     ]
    }
   ],
   "source": [
    "knn = neighbors.KNeighborsRegressor(n_neighbors=10)\n",
    "X = df[['# num_pages', 'ratings_count']]\n",
    "Y = df['average_rating']\n",
    "knn.fit(X,Y)\n",
    "from sklearn.model_selection import cross_val_score\n",
    "score = cross_val_score(knn, X, Y, cv=5)\n",
    "print(str(score.mean()-score.std()*2) + ', ' + str(score.mean()+score.std()*2))\n",
    "knn = neighbors.KNeighborsRegressor(n_neighbors=10, weights = 'distance')\n",
    "X = df[['# num_pages', 'ratings_count']]\n",
    "Y = df['average_rating']\n",
    "knn.fit(X,Y)\n",
    "from sklearn.model_selection import cross_val_score\n",
    "score = cross_val_score(knn, X, Y, cv=5)\n",
    "print(str(score.mean()-score.std()*2) + ', ' + str(score.mean()+score.std()*2))"
   ]
  },
  {
   "cell_type": "code",
   "execution_count": 39,
   "metadata": {},
   "outputs": [
    {
     "name": "stdout",
     "output_type": "stream",
     "text": [
      "-0.01393517346971676, 0.07499380849502955\n"
     ]
    }
   ],
   "source": [
    "from sklearn import linear_model\n",
    "lrm = linear_model.LinearRegression()\n",
    "lrm.fit(X, Y)\n",
    "score = cross_val_score(lrm, X, Y, cv=5)\n",
    "print(str(score.mean()-score.std()*2) + ', ' + str(score.mean()+score.std()*2))"
   ]
  }
 ],
 "metadata": {
  "kernelspec": {
   "display_name": "Python 3",
   "language": "python",
   "name": "python3"
  },
  "language_info": {
   "codemirror_mode": {
    "name": "ipython",
    "version": 3
   },
   "file_extension": ".py",
   "mimetype": "text/x-python",
   "name": "python",
   "nbconvert_exporter": "python",
   "pygments_lexer": "ipython3",
   "version": "3.7.1"
  }
 },
 "nbformat": 4,
 "nbformat_minor": 2
}
