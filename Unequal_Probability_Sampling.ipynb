{
 "cells": [
  {
   "cell_type": "code",
   "execution_count": 112,
   "metadata": {},
   "outputs": [],
   "source": [
    "p = [.6/80,.6/80,.7/80,.9/80]\n",
    "y = [8,8,8,7]\n",
    "duplicates = [1]\n",
    "N = 300"
   ]
  },
  {
   "cell_type": "code",
   "execution_count": 113,
   "metadata": {},
   "outputs": [],
   "source": [
    "def HH_tbar(p, y):\n",
    "    sum = 0\n",
    "    for i in range(len(p)):\n",
    "        sum += y[i]/p[i]\n",
    "    return sum/len(p)\n",
    "\n",
    "def HH_tbar_var(p, y):\n",
    "    tbar = HH_tbar(p, y)\n",
    "    sum = 0\n",
    "    for i in range(len(p)):\n",
    "        sum += (y[i]/p[i] - tbar)**2\n",
    "    return sum/(len(p)*(len(p)-1))\n",
    "\n",
    "def HH_ybar(p, y, N):\n",
    "    return HH_tbar(p, y)/N\n",
    "\n",
    "def HH_ybar_var(p, y, N):\n",
    "    return HH_tbar_var(p,y)/N**2"
   ]
  },
  {
   "cell_type": "code",
   "execution_count": 114,
   "metadata": {},
   "outputs": [
    {
     "name": "stdout",
     "output_type": "stream",
     "text": [
      "917.4603174603175\n",
      "10975.056689342404\n",
      "3.058201058201058\n",
      "0.3492063492063492\n"
     ]
    }
   ],
   "source": [
    "print(HH_tbar(p, y))\n",
    "print(HH_tbar_var(p,y))\n",
    "print(HH_ybar(p, y, N))\n",
    "print((HH_ybar_var(p,y,N))**.5)"
   ]
  },
  {
   "cell_type": "code",
   "execution_count": 107,
   "metadata": {},
   "outputs": [],
   "source": [
    "def pi_i(p, n):\n",
    "    return 1 - (1-p)**n\n",
    "\n",
    "def pi_ij(p_i, p_j, n):\n",
    "    return pi_i(p_i, n) + pi_i(p_j, n) - (1 - (1 - p_i - p_j)**n)\n",
    "\n",
    "def HT_tbar(p, y, duplicates):\n",
    "    sum = 0\n",
    "    n = len(p)\n",
    "    for i in range(len(p)):\n",
    "        if i not in duplicates:\n",
    "            sum += y[i]/pi_i(p[i], n)\n",
    "    return sum\n",
    "\n",
    "def HT_tbar_var(p, y, duplicates):\n",
    "    sum1 = 0\n",
    "    sum2 = 0\n",
    "    n = len(p)\n",
    "    for i in range(n):\n",
    "        if i not in duplicates:\n",
    "            pii = pi_i(p[i], n)\n",
    "            sum1 += (1/(pii**2)-1/pii)*(y[i]**2)\n",
    "            for j in range(i+1, n):\n",
    "                if j not in duplicates:\n",
    "                    piixj = pii*pi_i(p[j], n)\n",
    "                    piij = pi_ij(p[i], p[j], n)\n",
    "                    sum2 += ((1/(piixj))-1/piij)*(y[i]*y[j])\n",
    "    return sum1 + sum2*2\n",
    "\n",
    "def HT_ybar(p, y, duplicates, N):\n",
    "    return HT_tbar(p,y, duplicates)/N\n",
    "\n",
    "def HT_ybar_var(p, y, duplicates, N):\n",
    "    return HT_tbar_var(p, y, duplicates)/N**2"
   ]
  },
  {
   "cell_type": "code",
   "execution_count": 115,
   "metadata": {},
   "outputs": [
    {
     "name": "stdout",
     "output_type": "stream",
     "text": [
      "659.4841898940265\n",
      "55132.67933175765\n",
      "2.1982806329800884\n",
      "0.7826783029498252\n"
     ]
    }
   ],
   "source": [
    "print(HT_tbar(p, y, duplicates))\n",
    "print(HT_tbar_var(p, y, duplicates))\n",
    "print(HT_ybar(p,y, duplicates, N))\n",
    "print(HT_ybar_var(p,y, duplicates, N)**.5)"
   ]
  },
  {
   "cell_type": "code",
   "execution_count": 116,
   "metadata": {},
   "outputs": [],
   "source": [
    "def gen_ybar(p, y, duplicates):\n",
    "    sum1 = 0\n",
    "    sum2 = 0\n",
    "    for i in range(len(p)):\n",
    "        if i not in duplicates:\n",
    "            pii = pi_i(p[i], len(p))\n",
    "            sum1 += y[i]/pii\n",
    "            sum2 += 1/pii\n",
    "    return sum1/sum2\n",
    "\n",
    "def gen_ybar_var(p, y, duplicates, N):\n",
    "    sum1 = 0\n",
    "    sum2 = 0\n",
    "    n = len(p)\n",
    "    ybar = gen_ybar(p, y, duplicates)\n",
    "    for i in range(n):\n",
    "        if i not in duplicates:\n",
    "            pii = pi_i(p[i], n)\n",
    "            sum1 += ((y[i] - ybar)**2) * ((1-pii)/pii**2)\n",
    "            for j in range(n):\n",
    "                if j not in duplicates:\n",
    "                    if i != j:\n",
    "                        piij = pi_ij(p[i], p[j], n)\n",
    "                        piixj = pii*pi_i(p[j], n)\n",
    "                        sum2 += ((piij - piixj)/piixj)*(((y[i]-ybar)*(y[j]-ybar))/piij)\n",
    "    return (sum1 + sum2)/N**2"
   ]
  },
  {
   "cell_type": "code",
   "execution_count": 117,
   "metadata": {},
   "outputs": [
    {
     "name": "stdout",
     "output_type": "stream",
     "text": [
      "7.7349214906377695\n",
      "0.07678677505036614\n"
     ]
    }
   ],
   "source": [
    "print(gen_ybar(p,y, duplicates))\n",
    "print((gen_ybar_var(p,y, duplicates, N))**.5)"
   ]
  },
  {
   "cell_type": "code",
   "execution_count": null,
   "metadata": {},
   "outputs": [],
   "source": []
  }
 ],
 "metadata": {
  "kernelspec": {
   "display_name": "Python 3",
   "language": "python",
   "name": "python3"
  },
  "language_info": {
   "codemirror_mode": {
    "name": "ipython",
    "version": 3
   },
   "file_extension": ".py",
   "mimetype": "text/x-python",
   "name": "python",
   "nbconvert_exporter": "python",
   "pygments_lexer": "ipython3",
   "version": "3.7.1"
  }
 },
 "nbformat": 4,
 "nbformat_minor": 2
}
